{
 "cells": [
  {
   "cell_type": "code",
   "execution_count": 153,
   "id": "83811563",
   "metadata": {
    "scrolled": true
   },
   "outputs": [
    {
     "name": "stderr",
     "output_type": "stream",
     "text": [
      "\u001b[32m\u001b[1m  Activating\u001b[22m\u001b[39m environment at `C:\\Users\\alect\\OneDrive\\Documents\\CMU MRSD\\Spring 2023\\OCRL\\OCRL-Project\\Project.toml`\n"
     ]
    }
   ],
   "source": [
    "import Pkg\n",
    "Pkg.activate(@__DIR__)\n",
    "Pkg.instantiate()\n",
    "import MathOptInterface as MOI\n",
    "import Ipopt \n",
    "\n",
    "import FiniteDiff\n",
    "import ForwardDiff\n",
    "import Convex as cvx \n",
    "import ECOS\n",
    "using LinearAlgebra\n",
    "using Plots\n",
    "using Random\n",
    "using JLD2\n",
    "using Test\n",
    "import MeshCat as mc \n",
    "using Statistics "
   ]
  },
  {
   "cell_type": "code",
   "execution_count": 154,
   "id": "36b869bf",
   "metadata": {
    "scrolled": true
   },
   "outputs": [
    {
     "data": {
      "text/plain": [
       "check_dynamic_feasibility (generic function with 1 method)"
      ]
     },
     "execution_count": 154,
     "metadata": {},
     "output_type": "execute_result"
    }
   ],
   "source": [
    "include(joinpath(@__DIR__, \"utils\",\"fmincon.jl\"))\n",
    "include(joinpath(@__DIR__, \"utils\",\"planar_quadrotor.jl\"))"
   ]
  },
  {
   "attachments": {},
   "cell_type": "markdown",
   "id": "cce7e616",
   "metadata": {},
   "source": []
  },
  {
   "cell_type": "code",
   "execution_count": 197,
   "id": "ab47d415",
   "metadata": {
    "scrolled": true
   },
   "outputs": [
    {
     "data": {
      "text/plain": [
       "diff_drive_dynamics (generic function with 1 method)"
      ]
     },
     "execution_count": 197,
     "metadata": {},
     "output_type": "execute_result"
    }
   ],
   "source": [
    "function diff_drive_dynamics(params, x,u)\n",
    "    \n",
    "    Vx = u[1]\n",
    "    ω = u[2]\n",
    "    \n",
    "    θ = x[3]\n",
    "    \n",
    "    ẋ = [Vx * cos(θ),\n",
    "        Vx * sin(θ),\n",
    "        ω]\n",
    "    \n",
    "    return ẋ\n",
    "end\n"
   ]
  },
  {
   "cell_type": "code",
   "execution_count": 198,
   "id": "b93424f9",
   "metadata": {},
   "outputs": [
    {
     "data": {
      "text/plain": [
       "skid_steering_dynamics (generic function with 1 method)"
      ]
     },
     "execution_count": 198,
     "metadata": {},
     "output_type": "execute_result"
    }
   ],
   "source": [
    "function skid_steering_dynamics(params, x,u)\n",
    "    return 1\n",
    "end"
   ]
  },
  {
   "cell_type": "code",
   "execution_count": 199,
   "id": "b2373b6e",
   "metadata": {},
   "outputs": [
    {
     "data": {
      "text/plain": [
       "hermite_simpson (generic function with 1 method)"
      ]
     },
     "execution_count": 199,
     "metadata": {},
     "output_type": "execute_result"
    }
   ],
   "source": [
    "\"\"\" We use the discretized version of the dynamics to create a dynamics constraint  \"\"\"\n",
    "\n",
    "function hermite_simpson(params::NamedTuple, x1::Vector, x2::Vector, u, dt::Real, dynamics::Function)::Vector \n",
    "    \n",
    "    x_half = ( (1 / 2) * (x1 + x2) ) + ( (dt / 8 ) * ( dynamics(params, x1, u) - dynamics(params, x2, u) ) )\n",
    "    \n",
    "    ẋ1 = dynamics(params, x1, u)\n",
    "    ẋ2 = dynamics(params, x2, u)\n",
    "    ẋ_half = dynamics(params, x_half, u)\n",
    "    \n",
    "    resid = x1 + ( (dt/6) * (ẋ1 + ( 4 * ẋ_half ) + ẋ2)) - x2\n",
    "\n",
    "    return resid\n",
    "\n",
    "end"
   ]
  },
  {
   "cell_type": "code",
   "execution_count": 200,
   "id": "fdb6dc68",
   "metadata": {},
   "outputs": [
    {
     "data": {
      "text/plain": [
       "mobile_base_dynamics_constraints (generic function with 1 method)"
      ]
     },
     "execution_count": 200,
     "metadata": {},
     "output_type": "execute_result"
    }
   ],
   "source": [
    "\"\"\" Use the stacked dynamics to create the dynamics constraints \"\"\"\n",
    "\n",
    "function mobile_base_dynamics_constraints(params::NamedTuple, Z::Vector)::Vector\n",
    "    idx, N, dt = params.idx, params.N, params.dt\n",
    "        \n",
    "    c = zeros(eltype(Z), idx.nc)\n",
    "    \n",
    "    for i = 1:(N-1)\n",
    "        \n",
    "        xi = Z[idx.x[i]]\n",
    "        ui = Z[idx.u[i]] \n",
    "        \n",
    "        xi1p = Z[idx.x[i+1]]\n",
    "        \n",
    "        # discretized dynamics\n",
    "        c[idx.c[i]] = hermite_simpson(params, xi, xi1p, ui, dt, diff_drive_dynamics)\n",
    "    end\n",
    "    return c \n",
    "end"
   ]
  },
  {
   "cell_type": "code",
   "execution_count": 201,
   "id": "5530cdbc",
   "metadata": {},
   "outputs": [
    {
     "data": {
      "text/plain": [
       "quadrotor_cost (generic function with 1 method)"
      ]
     },
     "execution_count": 201,
     "metadata": {},
     "output_type": "execute_result"
    }
   ],
   "source": [
    "function mobile_base_cost(params::NamedTuple, Z::Vector)::Real\n",
    "    idx, N = params.idx, params.N\n",
    "    xg = params.xg\n",
    "    Q, R, Qf = params.Q, params.R, params.Qf\n",
    "    J = 0 \n",
    "    \n",
    "    for i = 1:(N-1)\n",
    "        xi = Z[idx.x[i]]\n",
    "        ui = Z[idx.u[i]]\n",
    "        # stage cost\n",
    "        J += 0.5 * transpose(xi - xg) * Q * (xi - xg) + 0.5 * transpose(ui) * R * ui\n",
    "    end\n",
    "    \n",
    "    # terminal cost \n",
    "    xn = Z[idx.x[N]]\n",
    "    J += 0.5 * transpose(xn - xg) * Qf * (xn - xg) \n",
    "    \n",
    "    return J \n",
    "end"
   ]
  },
  {
   "cell_type": "code",
   "execution_count": 202,
   "id": "3602bfb5",
   "metadata": {},
   "outputs": [
    {
     "data": {
      "text/plain": [
       "quadrotor_equality_constraint (generic function with 1 method)"
      ]
     },
     "execution_count": 202,
     "metadata": {},
     "output_type": "execute_result"
    }
   ],
   "source": [
    "function quadrotor_equality_constraint(params::NamedTuple, Z::Vector)::Vector\n",
    "    N, idx = params.N, params.idx\n",
    "    xic = params.xic\n",
    "    xg = params.xg\n",
    "        \n",
    "    # initial condition constraints\n",
    "    ic_ceq = Z[idx.x[1]] - xic\n",
    "    \n",
    "    # goal condition constraints\n",
    "    goal_ceq = Z[idx.x[N]] - params.xg\n",
    "    \n",
    "    # dynamics constraint\n",
    "    dyn_ceq = mobile_base_dynamics_constraints(params, Z)\n",
    "    \n",
    "    # stack them all\n",
    "    c_eq = [ic_ceq; goal_ceq; dyn_ceq]\n",
    "    \n",
    "    return c_eq\n",
    "end"
   ]
  },
  {
   "cell_type": "code",
   "execution_count": 238,
   "id": "53b07105",
   "metadata": {},
   "outputs": [
    {
     "data": {
      "text/plain": [
       "ineq_constraint (generic function with 1 method)"
      ]
     },
     "execution_count": 238,
     "metadata": {},
     "output_type": "execute_result"
    }
   ],
   "source": [
    "function ineq_constraint(params, Z)\n",
    "    \n",
    "    idx, N = params.idx, params.N\n",
    "    pos_obs1, pos_obs2, pos_obs3 = params.pos_obs1, params.pos_obs2, params.pos_obs3\n",
    "        \n",
    "    # collision constraints\n",
    "    pos_obs1 = [params.pos_obs1 for i = 1:N]\n",
    "    pos_obs2 = [params.pos_obs2 for i = 1:N]\n",
    "    pos_obs3 = [params.pos_obs3 for i = 1:N]\n",
    "\n",
    "    quad_pos = [Z[idx.x[i]][1:2] for i = 1:N]\n",
    "\n",
    "    c_obs1 = norm.(quad_pos .- pos_obs1).^2\n",
    "    c_obs2 = norm.(quad_pos .- pos_obs2).^2\n",
    "    c_obs3 = norm.(quad_pos .- pos_obs3).^2\n",
    "        \n",
    "    c_ineq = [c_obs1; c_obs2; c_obs3]\n",
    "    \n",
    "    return c_ineq\n",
    "end"
   ]
  },
  {
   "cell_type": "code",
   "execution_count": 241,
   "id": "e2281545",
   "metadata": {
    "scrolled": true
   },
   "outputs": [
    {
     "data": {
      "text/plain": [
       "quadrotor_reorient"
      ]
     },
     "execution_count": 241,
     "metadata": {},
     "output_type": "execute_result"
    }
   ],
   "source": [
    "function create_idx(nx,nu,N)\n",
    "    # This function creates some useful indexing tools for Z \n",
    "    # x_i = Z[idx.x[i]]\n",
    "    # u_i = Z[idx.u[i]]\n",
    "    \n",
    "    # Feel free to use/not use anything here.\n",
    "    # our Z vector is [x0, u0, x1, u1, …, xN]\n",
    "    nz = (N-1) * nu + N * nx # length of Z \n",
    "    x = [(i - 1) * (nx + nu) .+ (1 : nx) for i = 1:N]\n",
    "    u = [(i - 1) * (nx + nu) .+ ((nx + 1):(nx + nu)) for i = 1:(N - 1)]\n",
    "    \n",
    "    # constraint indexing for the (N-1) dynamics constraints when stacked up\n",
    "    c = [(i - 1) * (nx) .+ (1 : nx) for i = 1:(N - 1)]\n",
    "    nc = (N - 1) * nx # (N-1)*nx \n",
    "    \n",
    "    return (nx=nx,nu=nu,N=N,nz=nz,nc=nc,x= x,u = u,c = c)\n",
    "end\n",
    "\n",
    "\"\"\"\n",
    "    quadrotor_reorient\n",
    "\n",
    "Function for returning collision free trajectories for 3 quadrotors. \n",
    "\n",
    "Outputs:\n",
    "    x1::Vector{Vector}  # state trajectory for quad 1 \n",
    "    x2::Vector{Vector}  # state trajectory for quad 2 \n",
    "    x3::Vector{Vector}  # state trajectory for quad 3 \n",
    "    u1::Vector{Vector}  # control trajectory for quad 1 \n",
    "    u2::Vector{Vector}  # control trajectory for quad 2 \n",
    "    u3::Vector{Vector}  # control trajectory for quad 3 \n",
    "    t_vec::Vector\n",
    "    params::NamedTuple\n",
    "\n",
    "The resulting trajectories should have dt=0.2, tf = 5.0, N = 26\n",
    "where all the x's are length 26, and the u's are length 25. \n",
    "\n",
    "Each trajectory for quad k should start at `xkic`, and should finish near \n",
    "`xkg`. The distances between each quad should be greater than 0.8 meters at \n",
    "every knot point in the trajectory. \n",
    "\"\"\"\n",
    "function quadrotor_reorient(;verbose=true)\n",
    "    \n",
    "    # problem size \n",
    "    nx = 3\n",
    "    nu = 2\n",
    "    dt = 0.2\n",
    "    tf = 5.0\n",
    "    t_vec = 0:dt:tf \n",
    "    N = length(t_vec)\n",
    "    \n",
    "    @show N\n",
    "    \n",
    "    # indexing \n",
    "    idx = create_idx(nx,nu,N)\n",
    "    \n",
    "    # initial conditions and goal states \n",
    "    xic = [2.,25.,0.] # ic\n",
    "    xg = [75., 25., 0.] # goal\n",
    "    \n",
    "    # LQR cost \n",
    "    Q = [1 0 0;\n",
    "        0 1 0;\n",
    "        0 0 10]\n",
    "    R = 0.1*diagm(ones(nu))\n",
    "    Qf = 10*diagm(ones(nx))\n",
    "                \n",
    "    pos_obs1 = [15., 30.]\n",
    "    rad_obs1 = 4.\n",
    "    \n",
    "    pos_obs2 = [35., 24.]\n",
    "    rad_obs2 = 10.\n",
    "    \n",
    "    pos_obs3 = [55., 35.]\n",
    "    rad_obs3 = 8.\n",
    "    \n",
    "    rads = [rad_obs1; rad_obs2; rad_obs3]\n",
    "    \n",
    "    # load all useful things into params\n",
    "    params = (xic=xic,\n",
    "              xg = xg,\n",
    "              dt = dt,\n",
    "              N = N,\n",
    "              idx = idx,\n",
    "              Q = Q,\n",
    "              R = R,\n",
    "              Qf = Qf,\n",
    "              pos_obs1 = pos_obs1,\n",
    "              pos_obs2 = pos_obs2,\n",
    "              pos_obs3 = pos_obs3,\n",
    "              rads = rads,\n",
    "              Vx_max = 1., # husky specs\n",
    "              u_max = 25., # derived angular velocity\n",
    "              num_obs = 3,\n",
    "              avoid_dist = 6.,\n",
    "              mass = 1.0, # quadrotor mass \n",
    "              g = 9.81,   # gravity \n",
    "              ℓ = 0.3,    # quadrotor length \n",
    "              J = .018)   # quadrotor moment of inertia \n",
    "            \n",
    "    # warm start\n",
    "    ref = range(xic, xg, length=N)\n",
    "    \n",
    "    z0 = 0.001*randn(idx.nz)\n",
    "    for i=1:N\n",
    "\n",
    "        x = ref[i][1]\n",
    "        y = ref[i][2]\n",
    "        \n",
    "        z0[idx.x[i]] = [x, y,tan(y/x)]\n",
    "    end\n",
    "    \n",
    "    x_l = -Inf * ones(idx.nz)\n",
    "    x_u = Inf * ones(idx.nz)\n",
    "    \n",
    "    # bound the control outputs \n",
    "    for i = 1:N-1  \n",
    "#         @show x_l[idx.u[i]]\n",
    "        x_l[idx.u[i]] = [-params.Vx_max, -params.u_max]\n",
    "            \n",
    "        x_u[idx.u[i]] = [params.Vx_max, params.u_max]\n",
    "    end\n",
    "    \n",
    "#     for i = 1:idx.nz\n",
    "#         @show x_l[i], x_u[i]\n",
    "#     end\n",
    "    \n",
    "    # constraint bounds\n",
    "    c_l = [(params.avoid_dist+rad_obs1)^2 * ones(N); \n",
    "           (params.avoid_dist+rad_obs2)^2 * ones(N); \n",
    "           (params.avoid_dist+rad_obs3)^2 * ones(N)]\n",
    "\n",
    "    c_u = Inf*ones(3*N)\n",
    "    \n",
    "    for i = 1:3*N\n",
    "        @show c_l[i], c_u[i]\n",
    "    end\n",
    "    \n",
    "#     @show size(c_l), size(c_u)\n",
    "#     c_u = Inf*ones(3*N) #; 9*ones(N-1); ones(N)]\n",
    "    \n",
    "    # choose diff type (try :auto, then use :finite if :auto doesn't work)\n",
    "    diff_type = :auto \n",
    "\n",
    "    Z = fmincon(quadrotor_cost,quadrotor_equality_constraint, ineq_constraint,x_l,x_u,c_l,c_u,z0,\n",
    "    params, diff_type; tol = 1e-6, c_tol = 1e-6, max_iters = 10_000, verbose = verbose)\n",
    "    \n",
    "    # return the trajectories \n",
    "    \n",
    "    x = [ Z[idx.x[i]] for i = 1:N]          \n",
    "    u = [ Z[idx.u[i]] for i = 1:(N-1)]\n",
    "                            \n",
    "    return x, u, t_vec, params \n",
    "end\n",
    "    \n",
    "    "
   ]
  },
  {
   "cell_type": "code",
   "execution_count": 242,
   "id": "806b8527",
   "metadata": {
    "scrolled": false
   },
   "outputs": [
    {
     "name": "stdout",
     "output_type": "stream",
     "text": [
      "N = 26\n",
      "(c_l[i], c_u[i]) = (100.0, Inf)\n",
      "(c_l[i], c_u[i]) = (100.0, Inf)\n",
      "(c_l[i], c_u[i]) = (100.0, Inf)\n",
      "(c_l[i], c_u[i]) = (100.0, Inf)\n",
      "(c_l[i], c_u[i]) = (100.0, Inf)\n",
      "(c_l[i], c_u[i]) = (100.0, Inf)\n",
      "(c_l[i], c_u[i]) = (100.0, Inf)\n",
      "(c_l[i], c_u[i]) = (100.0, Inf)\n",
      "(c_l[i], c_u[i]) = (100.0, Inf)\n",
      "(c_l[i], c_u[i]) = (100.0, Inf)\n",
      "(c_l[i], c_u[i]) = (100.0, Inf)\n",
      "(c_l[i], c_u[i]) = (100.0, Inf)\n",
      "(c_l[i], c_u[i]) = (100.0, Inf)\n",
      "(c_l[i], c_u[i]) = (100.0, Inf)\n",
      "(c_l[i], c_u[i]) = (100.0, Inf)\n",
      "(c_l[i], c_u[i]) = (100.0, Inf)\n",
      "(c_l[i], c_u[i]) = (100.0, Inf)\n",
      "(c_l[i], c_u[i]) = (100.0, Inf)\n",
      "(c_l[i], c_u[i]) = (100.0, Inf)\n",
      "(c_l[i], c_u[i]) = (100.0, Inf)\n",
      "(c_l[i], c_u[i]) = (100.0, Inf)\n",
      "(c_l[i], c_u[i]) = (100.0, Inf)\n",
      "(c_l[i], c_u[i]) = (100.0, Inf)\n",
      "(c_l[i], c_u[i]) = (100.0, Inf)\n",
      "(c_l[i], c_u[i]) = (100.0, Inf)\n",
      "(c_l[i], c_u[i]) = (100.0, Inf)\n",
      "(c_l[i], c_u[i]) = (256.0, Inf)\n",
      "(c_l[i], c_u[i]) = (256.0, Inf)\n",
      "(c_l[i], c_u[i]) = (256.0, Inf)\n",
      "(c_l[i], c_u[i]) = (256.0, Inf)\n",
      "(c_l[i], c_u[i]) = (256.0, Inf)\n",
      "(c_l[i], c_u[i]) = (256.0, Inf)\n",
      "(c_l[i], c_u[i]) = (256.0, Inf)\n",
      "(c_l[i], c_u[i]) = (256.0, Inf)\n",
      "(c_l[i], c_u[i]) = (256.0, Inf)\n",
      "(c_l[i], c_u[i]) = (256.0, Inf)\n",
      "(c_l[i], c_u[i]) = (256.0, Inf)\n",
      "(c_l[i], c_u[i]) = (256.0, Inf)\n",
      "(c_l[i], c_u[i]) = (256.0, Inf)\n",
      "(c_l[i], c_u[i]) = (256.0, Inf)\n",
      "(c_l[i], c_u[i]) = (256.0, Inf)\n",
      "(c_l[i], c_u[i]) = (256.0, Inf)\n",
      "(c_l[i], c_u[i]) = (256.0, Inf)\n",
      "(c_l[i], c_u[i]) = (256.0, Inf)\n",
      "(c_l[i], c_u[i]) = (256.0, Inf)\n",
      "(c_l[i], c_u[i]) = (256.0, Inf)\n",
      "(c_l[i], c_u[i]) = (256.0, Inf)\n",
      "(c_l[i], c_u[i]) = (256.0, Inf)\n",
      "(c_l[i], c_u[i]) = (256.0, Inf)\n",
      "(c_l[i], c_u[i]) = (256.0, Inf)\n",
      "(c_l[i], c_u[i]) = (256.0, Inf)\n",
      "(c_l[i], c_u[i]) = (256.0, Inf)\n",
      "(c_l[i], c_u[i]) = (196.0, Inf)\n",
      "(c_l[i], c_u[i]) = (196.0, Inf)\n",
      "(c_l[i], c_u[i]) = (196.0, Inf)\n",
      "(c_l[i], c_u[i]) = (196.0, Inf)\n",
      "(c_l[i], c_u[i]) = (196.0, Inf)\n",
      "(c_l[i], c_u[i]) = (196.0, Inf)\n",
      "(c_l[i], c_u[i]) = (196.0, Inf)\n",
      "(c_l[i], c_u[i]) = (196.0, Inf)\n",
      "(c_l[i], c_u[i]) = (196.0, Inf)\n",
      "(c_l[i], c_u[i]) = (196.0, Inf)\n",
      "(c_l[i], c_u[i]) = (196.0, Inf)\n",
      "(c_l[i], c_u[i]) = (196.0, Inf)\n",
      "(c_l[i], c_u[i]) = (196.0, Inf)\n",
      "(c_l[i], c_u[i]) = (196.0, Inf)\n",
      "(c_l[i], c_u[i]) = (196.0, Inf)\n",
      "(c_l[i], c_u[i]) = (196.0, Inf)\n",
      "(c_l[i], c_u[i]) = (196.0, Inf)\n",
      "(c_l[i], c_u[i]) = (196.0, Inf)\n",
      "(c_l[i], c_u[i]) = (196.0, Inf)\n",
      "(c_l[i], c_u[i]) = (196.0, Inf)\n",
      "(c_l[i], c_u[i]) = (196.0, Inf)\n",
      "(c_l[i], c_u[i]) = (196.0, Inf)\n",
      "(c_l[i], c_u[i]) = (196.0, Inf)\n",
      "(c_l[i], c_u[i]) = (196.0, Inf)\n",
      "(c_l[i], c_u[i]) = (196.0, Inf)\n",
      "(c_l[i], c_u[i]) = (196.0, Inf)\n",
      "x[i] = [2.000016895744703, 24.331436341990283, -1.2064307491273034e-13]\n",
      "u[i] = [1.0000000099961575, -4.9750453684823475]\n",
      "x[i] = [2.8450863402462483, 23.63426377997245, -0.9950090736965902]\n",
      "u[i] = [1.0000000099964437, 1.336937707136443]\n",
      "x[i] = [3.857173776630088, 22.91186111059609, -0.7276215322693016]\n",
      "u[i] = [1.000000009996463, -0.3967789678572852]\n",
      "x[i] = [4.944319255124162, 22.297546199033704, -0.8069773258407587]\n",
      "u[i] = [1.000000009996464, 0.25059685864293857]\n",
      "x[i] = [6.509479949455662, 21.720972132682512, -0.7568579541121709]\n",
      "u[i] = [1.0000000099964603, -0.6056077322680733]\n",
      "x[i] = [9.54589094192893, 21.171034992231586, -0.8779795005657856]\n",
      "u[i] = [1.0000000099964086, 2.1736938758931323]\n",
      "x[i] = [18.950270652311172, 20.813305231286744, -0.44324072538715903]\n",
      "u[i] = [1.000000009989182, 5.6695831375614105]\n",
      "x[i] = [19.138390957738192, 20.836698496527717, 0.6906759021251231]\n",
      "u[i] = [1.0000000099903112, 0.18965874759048132]\n",
      "x[i] = [19.29010092970864, 20.967003099029434, 0.7286076516432194]\n",
      "u[i] = [1.000000009996451, -0.2889868772753723]\n",
      "x[i] = [23.89062187005322, 36.84084728635485, 0.6708102761881449]\n",
      "u[i] = [1.000000009996331, 3.1586611728288685]\n",
      "x[i] = [26.290824501131873, 38.22610123199435, 1.3025425107539188]\n",
      "u[i] = [-1.0000000099910837, 25.000000249300307]\n",
      "x[i] = [28.151978691467637, 38.481098199879504, 6.302542560613995]\n",
      "u[i] = [1.0000000099960469, 8.143917766844337]\n",
      "x[i] = [41.478695398314166, 38.62964473033706, 7.931326113982863]\n",
      "u[i] = [-1.000000009996222, 6.049027187268121]\n",
      "x[i] = [50.82456755754046, 21.637149895381715, 9.141131551436487]\n",
      "u[i] = [-1.000000009992195, -4.260863897541795]\n",
      "x[i] = [50.971753395407596, 21.510707816367436, 8.288958771928128]\n",
      "u[i] = [1.0000000099819626, -25.000000249756756]\n",
      "x[i] = [51.042113145914456, 21.472795908949433, 3.288958721976736]\n",
      "u[i] = [-1.0000000099913704, 0.657961921920777]\n",
      "x[i] = [51.237445524424864, 21.515075720703848, 3.4205511063608918]\n",
      "u[i] = [-1.0000000099963406, 3.2186722684450397]\n",
      "x[i] = [59.88761650440696, 21.701135793803992, 4.0642855600499]\n",
      "u[i] = [-1.0000000099964557, -0.9061572688048021]\n",
      "x[i] = [63.582029927741125, 22.070446264747485, 3.883054106288939]\n",
      "u[i] = [-1.0000000099964634, 0.4119870112565322]\n",
      "x[i] = [66.41076595611989, 22.42601559627397, 3.9654515085402458]\n",
      "u[i] = [-1.000000009996459, -0.7418372413156512]\n",
      "x[i] = [68.5024499381192, 22.77916341456636, 3.8170840602771157]\n",
      "u[i] = [-1.0000000099963873, 2.558294249959843]\n",
      "x[i] = [70.07898635710757, 23.175191299199255, 4.328742910269084]\n",
      "u[i] = [-1.0000000099951039, -9.67965296735206]\n",
      "x[i] = [71.57421168755005, 23.461504579585686, 2.392812316798673]\n",
      "u[i] = [1.000000009994983, -10.41201035283728]\n",
      "x[i] = [72.71033542559638, 23.915599450782675, 0.31041024623121677]\n",
      "u[i] = [1.0000000099963595, 3.957986671932763]\n",
      "x[i] = [73.68024309819245, 24.33605828270833, 1.1020075806177692]\n",
      "u[i] = [1.0000000099961763, -5.510037903088293]\n",
      "x[params.N] = [74.47224887612313, 24.722238845112695, 1.1080048516144599e-13]\n"
     ]
    },
    {
     "data": {
      "image/svg+xml": [
       "<?xml version=\"1.0\" encoding=\"utf-8\"?>\n",
       "<svg xmlns=\"http://www.w3.org/2000/svg\" xmlns:xlink=\"http://www.w3.org/1999/xlink\" width=\"600\" height=\"400\" viewBox=\"0 0 2400 1600\">\n",
       "<defs>\n",
       "  <clipPath id=\"clip730\">\n",
       "    <rect x=\"0\" y=\"0\" width=\"2400\" height=\"1600\"/>\n",
       "  </clipPath>\n",
       "</defs>\n",
       "<path clip-path=\"url(#clip730)\" d=\"M0 1600 L2400 1600 L2400 0 L0 0  Z\" fill=\"#ffffff\" fill-rule=\"evenodd\" fill-opacity=\"1\"/>\n",
       "<defs>\n",
       "  <clipPath id=\"clip731\">\n",
       "    <rect x=\"480\" y=\"0\" width=\"1681\" height=\"1600\"/>\n",
       "  </clipPath>\n",
       "</defs>\n",
       "<path clip-path=\"url(#clip730)\" d=\"M141.853 1486.45 L2352.76 1486.45 L2352.76 123.472 L141.853 123.472  Z\" fill=\"#ffffff\" fill-rule=\"evenodd\" fill-opacity=\"1\"/>\n",
       "<defs>\n",
       "  <clipPath id=\"clip732\">\n",
       "    <rect x=\"141\" y=\"123\" width=\"2212\" height=\"1364\"/>\n",
       "  </clipPath>\n",
       "</defs>\n",
       "<polyline clip-path=\"url(#clip732)\" style=\"stroke:#000000; stroke-linecap:round; stroke-linejoin:round; stroke-width:2; stroke-opacity:0.1; fill:none\" points=\"141.853,1486.45 141.853,123.472 \"/>\n",
       "<polyline clip-path=\"url(#clip732)\" style=\"stroke:#000000; stroke-linecap:round; stroke-linejoin:round; stroke-width:2; stroke-opacity:0.1; fill:none\" points=\"694.579,1486.45 694.579,123.472 \"/>\n",
       "<polyline clip-path=\"url(#clip732)\" style=\"stroke:#000000; stroke-linecap:round; stroke-linejoin:round; stroke-width:2; stroke-opacity:0.1; fill:none\" points=\"1247.3,1486.45 1247.3,123.472 \"/>\n",
       "<polyline clip-path=\"url(#clip732)\" style=\"stroke:#000000; stroke-linecap:round; stroke-linejoin:round; stroke-width:2; stroke-opacity:0.1; fill:none\" points=\"1800.03,1486.45 1800.03,123.472 \"/>\n",
       "<polyline clip-path=\"url(#clip732)\" style=\"stroke:#000000; stroke-linecap:round; stroke-linejoin:round; stroke-width:2; stroke-opacity:0.1; fill:none\" points=\"2352.76,1486.45 2352.76,123.472 \"/>\n",
       "<polyline clip-path=\"url(#clip730)\" style=\"stroke:#000000; stroke-linecap:round; stroke-linejoin:round; stroke-width:4; stroke-opacity:1; fill:none\" points=\"141.853,1486.45 2352.76,1486.45 \"/>\n",
       "<polyline clip-path=\"url(#clip730)\" style=\"stroke:#000000; stroke-linecap:round; stroke-linejoin:round; stroke-width:4; stroke-opacity:1; fill:none\" points=\"141.853,1486.45 141.853,1467.55 \"/>\n",
       "<polyline clip-path=\"url(#clip730)\" style=\"stroke:#000000; stroke-linecap:round; stroke-linejoin:round; stroke-width:4; stroke-opacity:1; fill:none\" points=\"694.579,1486.45 694.579,1467.55 \"/>\n",
       "<polyline clip-path=\"url(#clip730)\" style=\"stroke:#000000; stroke-linecap:round; stroke-linejoin:round; stroke-width:4; stroke-opacity:1; fill:none\" points=\"1247.3,1486.45 1247.3,1467.55 \"/>\n",
       "<polyline clip-path=\"url(#clip730)\" style=\"stroke:#000000; stroke-linecap:round; stroke-linejoin:round; stroke-width:4; stroke-opacity:1; fill:none\" points=\"1800.03,1486.45 1800.03,1467.55 \"/>\n",
       "<polyline clip-path=\"url(#clip730)\" style=\"stroke:#000000; stroke-linecap:round; stroke-linejoin:round; stroke-width:4; stroke-opacity:1; fill:none\" points=\"2352.76,1486.45 2352.76,1467.55 \"/>\n",
       "<path clip-path=\"url(#clip730)\" d=\"M141.853 1517.37 Q138.242 1517.37 136.413 1520.93 Q134.608 1524.47 134.608 1531.6 Q134.608 1538.71 136.413 1542.27 Q138.242 1545.82 141.853 1545.82 Q145.487 1545.82 147.293 1542.27 Q149.121 1538.71 149.121 1531.6 Q149.121 1524.47 147.293 1520.93 Q145.487 1517.37 141.853 1517.37 M141.853 1513.66 Q147.663 1513.66 150.719 1518.27 Q153.797 1522.85 153.797 1531.6 Q153.797 1540.33 150.719 1544.94 Q147.663 1549.52 141.853 1549.52 Q136.043 1549.52 132.964 1544.94 Q129.909 1540.33 129.909 1531.6 Q129.909 1522.85 132.964 1518.27 Q136.043 1513.66 141.853 1513.66 Z\" fill=\"#000000\" fill-rule=\"nonzero\" fill-opacity=\"1\" /><path clip-path=\"url(#clip730)\" d=\"M673.352 1544.91 L689.671 1544.91 L689.671 1548.85 L667.727 1548.85 L667.727 1544.91 Q670.389 1542.16 674.972 1537.53 Q679.579 1532.88 680.759 1531.53 Q683.005 1529.01 683.884 1527.27 Q684.787 1525.51 684.787 1523.82 Q684.787 1521.07 682.843 1519.33 Q680.921 1517.6 677.82 1517.6 Q675.62 1517.6 673.167 1518.36 Q670.736 1519.13 667.958 1520.68 L667.958 1515.95 Q670.783 1514.82 673.236 1514.24 Q675.69 1513.66 677.727 1513.66 Q683.097 1513.66 686.292 1516.35 Q689.486 1519.03 689.486 1523.52 Q689.486 1525.65 688.676 1527.57 Q687.889 1529.47 685.782 1532.07 Q685.204 1532.74 682.102 1535.95 Q679 1539.15 673.352 1544.91 Z\" fill=\"#000000\" fill-rule=\"nonzero\" fill-opacity=\"1\" /><path clip-path=\"url(#clip730)\" d=\"M709.486 1517.37 Q705.875 1517.37 704.046 1520.93 Q702.241 1524.47 702.241 1531.6 Q702.241 1538.71 704.046 1542.27 Q705.875 1545.82 709.486 1545.82 Q713.12 1545.82 714.926 1542.27 Q716.754 1538.71 716.754 1531.6 Q716.754 1524.47 714.926 1520.93 Q713.12 1517.37 709.486 1517.37 M709.486 1513.66 Q715.296 1513.66 718.352 1518.27 Q721.43 1522.85 721.43 1531.6 Q721.43 1540.33 718.352 1544.94 Q715.296 1549.52 709.486 1549.52 Q703.676 1549.52 700.597 1544.94 Q697.542 1540.33 697.542 1531.6 Q697.542 1522.85 700.597 1518.27 Q703.676 1513.66 709.486 1513.66 Z\" fill=\"#000000\" fill-rule=\"nonzero\" fill-opacity=\"1\" /><path clip-path=\"url(#clip730)\" d=\"M1235.48 1518.36 L1223.67 1536.81 L1235.48 1536.81 L1235.48 1518.36 M1234.25 1514.29 L1240.13 1514.29 L1240.13 1536.81 L1245.06 1536.81 L1245.06 1540.7 L1240.13 1540.7 L1240.13 1548.85 L1235.48 1548.85 L1235.48 1540.7 L1219.87 1540.7 L1219.87 1536.19 L1234.25 1514.29 Z\" fill=\"#000000\" fill-rule=\"nonzero\" fill-opacity=\"1\" /><path clip-path=\"url(#clip730)\" d=\"M1262.79 1517.37 Q1259.18 1517.37 1257.35 1520.93 Q1255.55 1524.47 1255.55 1531.6 Q1255.55 1538.71 1257.35 1542.27 Q1259.18 1545.82 1262.79 1545.82 Q1266.42 1545.82 1268.23 1542.27 Q1270.06 1538.71 1270.06 1531.6 Q1270.06 1524.47 1268.23 1520.93 Q1266.42 1517.37 1262.79 1517.37 M1262.79 1513.66 Q1268.6 1513.66 1271.66 1518.27 Q1274.73 1522.85 1274.73 1531.6 Q1274.73 1540.33 1271.66 1544.94 Q1268.6 1549.52 1262.79 1549.52 Q1256.98 1549.52 1253.9 1544.94 Q1250.85 1540.33 1250.85 1531.6 Q1250.85 1522.85 1253.9 1518.27 Q1256.98 1513.66 1262.79 1513.66 Z\" fill=\"#000000\" fill-rule=\"nonzero\" fill-opacity=\"1\" /><path clip-path=\"url(#clip730)\" d=\"M1785.44 1529.7 Q1782.29 1529.7 1780.44 1531.86 Q1778.61 1534.01 1778.61 1537.76 Q1778.61 1541.49 1780.44 1543.66 Q1782.29 1545.82 1785.44 1545.82 Q1788.58 1545.82 1790.41 1543.66 Q1792.26 1541.49 1792.26 1537.76 Q1792.26 1534.01 1790.41 1531.86 Q1788.58 1529.7 1785.44 1529.7 M1794.72 1515.05 L1794.72 1519.31 Q1792.96 1518.48 1791.15 1518.04 Q1789.37 1517.6 1787.61 1517.6 Q1782.98 1517.6 1780.53 1520.72 Q1778.1 1523.85 1777.75 1530.17 Q1779.12 1528.15 1781.18 1527.09 Q1783.24 1526 1785.71 1526 Q1790.92 1526 1793.93 1529.17 Q1796.96 1532.32 1796.96 1537.76 Q1796.96 1543.08 1793.81 1546.3 Q1790.67 1549.52 1785.44 1549.52 Q1779.44 1549.52 1776.27 1544.94 Q1773.1 1540.33 1773.1 1531.6 Q1773.1 1523.41 1776.99 1518.55 Q1780.88 1513.66 1787.43 1513.66 Q1789.19 1513.66 1790.97 1514.01 Q1792.77 1514.36 1794.72 1515.05 Z\" fill=\"#000000\" fill-rule=\"nonzero\" fill-opacity=\"1\" /><path clip-path=\"url(#clip730)\" d=\"M1815.02 1517.37 Q1811.41 1517.37 1809.58 1520.93 Q1807.77 1524.47 1807.77 1531.6 Q1807.77 1538.71 1809.58 1542.27 Q1811.41 1545.82 1815.02 1545.82 Q1818.65 1545.82 1820.46 1542.27 Q1822.29 1538.71 1822.29 1531.6 Q1822.29 1524.47 1820.46 1520.93 Q1818.65 1517.37 1815.02 1517.37 M1815.02 1513.66 Q1820.83 1513.66 1823.88 1518.27 Q1826.96 1522.85 1826.96 1531.6 Q1826.96 1540.33 1823.88 1544.94 Q1820.83 1549.52 1815.02 1549.52 Q1809.21 1549.52 1806.13 1544.94 Q1803.07 1540.33 1803.07 1531.6 Q1803.07 1522.85 1806.13 1518.27 Q1809.21 1513.66 1815.02 1513.66 Z\" fill=\"#000000\" fill-rule=\"nonzero\" fill-opacity=\"1\" /><path clip-path=\"url(#clip730)\" d=\"M2337.63 1532.44 Q2334.3 1532.44 2332.37 1534.22 Q2330.48 1536 2330.48 1539.13 Q2330.48 1542.25 2332.37 1544.03 Q2334.3 1545.82 2337.63 1545.82 Q2340.96 1545.82 2342.88 1544.03 Q2344.8 1542.23 2344.8 1539.13 Q2344.8 1536 2342.88 1534.22 Q2340.99 1532.44 2337.63 1532.44 M2332.95 1530.45 Q2329.94 1529.7 2328.25 1527.64 Q2326.59 1525.58 2326.59 1522.62 Q2326.59 1518.48 2329.53 1516.07 Q2332.49 1513.66 2337.63 1513.66 Q2342.79 1513.66 2345.73 1516.07 Q2348.67 1518.48 2348.67 1522.62 Q2348.67 1525.58 2346.98 1527.64 Q2345.31 1529.7 2342.33 1530.45 Q2345.71 1531.23 2347.58 1533.52 Q2349.48 1535.82 2349.48 1539.13 Q2349.48 1544.15 2346.4 1546.83 Q2343.35 1549.52 2337.63 1549.52 Q2331.91 1549.52 2328.83 1546.83 Q2325.78 1544.15 2325.78 1539.13 Q2325.78 1535.82 2327.68 1533.52 Q2329.57 1531.23 2332.95 1530.45 M2331.24 1523.06 Q2331.24 1525.75 2332.91 1527.25 Q2334.6 1528.76 2337.63 1528.76 Q2340.64 1528.76 2342.33 1527.25 Q2344.04 1525.75 2344.04 1523.06 Q2344.04 1520.38 2342.33 1518.87 Q2340.64 1517.37 2337.63 1517.37 Q2334.6 1517.37 2332.91 1518.87 Q2331.24 1520.38 2331.24 1523.06 Z\" fill=\"#000000\" fill-rule=\"nonzero\" fill-opacity=\"1\" /><path clip-path=\"url(#clip730)\" d=\"M2367.79 1517.37 Q2364.18 1517.37 2362.35 1520.93 Q2360.55 1524.47 2360.55 1531.6 Q2360.55 1538.71 2362.35 1542.27 Q2364.18 1545.82 2367.79 1545.82 Q2371.42 1545.82 2373.23 1542.27 Q2375.06 1538.71 2375.06 1531.6 Q2375.06 1524.47 2373.23 1520.93 Q2371.42 1517.37 2367.79 1517.37 M2367.79 1513.66 Q2373.6 1513.66 2376.66 1518.27 Q2379.73 1522.85 2379.73 1531.6 Q2379.73 1540.33 2376.66 1544.94 Q2373.6 1549.52 2367.79 1549.52 Q2361.98 1549.52 2358.9 1544.94 Q2355.85 1540.33 2355.85 1531.6 Q2355.85 1522.85 2358.9 1518.27 Q2361.98 1513.66 2367.79 1513.66 Z\" fill=\"#000000\" fill-rule=\"nonzero\" fill-opacity=\"1\" /><polyline clip-path=\"url(#clip732)\" style=\"stroke:#000000; stroke-linecap:round; stroke-linejoin:round; stroke-width:2; stroke-opacity:0.1; fill:none\" points=\"141.853,1486.45 2352.76,1486.45 \"/>\n",
       "<polyline clip-path=\"url(#clip732)\" style=\"stroke:#000000; stroke-linecap:round; stroke-linejoin:round; stroke-width:2; stroke-opacity:0.1; fill:none\" points=\"141.853,1145.7 2352.76,1145.7 \"/>\n",
       "<polyline clip-path=\"url(#clip732)\" style=\"stroke:#000000; stroke-linecap:round; stroke-linejoin:round; stroke-width:2; stroke-opacity:0.1; fill:none\" points=\"141.853,804.96 2352.76,804.96 \"/>\n",
       "<polyline clip-path=\"url(#clip732)\" style=\"stroke:#000000; stroke-linecap:round; stroke-linejoin:round; stroke-width:2; stroke-opacity:0.1; fill:none\" points=\"141.853,464.216 2352.76,464.216 \"/>\n",
       "<polyline clip-path=\"url(#clip732)\" style=\"stroke:#000000; stroke-linecap:round; stroke-linejoin:round; stroke-width:2; stroke-opacity:0.1; fill:none\" points=\"141.853,123.472 2352.76,123.472 \"/>\n",
       "<polyline clip-path=\"url(#clip730)\" style=\"stroke:#000000; stroke-linecap:round; stroke-linejoin:round; stroke-width:4; stroke-opacity:1; fill:none\" points=\"141.853,1486.45 141.853,123.472 \"/>\n",
       "<polyline clip-path=\"url(#clip730)\" style=\"stroke:#000000; stroke-linecap:round; stroke-linejoin:round; stroke-width:4; stroke-opacity:1; fill:none\" points=\"141.853,1486.45 160.751,1486.45 \"/>\n",
       "<polyline clip-path=\"url(#clip730)\" style=\"stroke:#000000; stroke-linecap:round; stroke-linejoin:round; stroke-width:4; stroke-opacity:1; fill:none\" points=\"141.853,1145.7 160.751,1145.7 \"/>\n",
       "<polyline clip-path=\"url(#clip730)\" style=\"stroke:#000000; stroke-linecap:round; stroke-linejoin:round; stroke-width:4; stroke-opacity:1; fill:none\" points=\"141.853,804.96 160.751,804.96 \"/>\n",
       "<polyline clip-path=\"url(#clip730)\" style=\"stroke:#000000; stroke-linecap:round; stroke-linejoin:round; stroke-width:4; stroke-opacity:1; fill:none\" points=\"141.853,464.216 160.751,464.216 \"/>\n",
       "<polyline clip-path=\"url(#clip730)\" style=\"stroke:#000000; stroke-linecap:round; stroke-linejoin:round; stroke-width:4; stroke-opacity:1; fill:none\" points=\"141.853,123.472 160.751,123.472 \"/>\n",
       "<path clip-path=\"url(#clip730)\" d=\"M93.9086 1472.25 Q90.2975 1472.25 88.4688 1475.81 Q86.6632 1479.35 86.6632 1486.48 Q86.6632 1493.59 88.4688 1497.15 Q90.2975 1500.7 93.9086 1500.7 Q97.5428 1500.7 99.3483 1497.15 Q101.177 1493.59 101.177 1486.48 Q101.177 1479.35 99.3483 1475.81 Q97.5428 1472.25 93.9086 1472.25 M93.9086 1468.54 Q99.7187 1468.54 102.774 1473.15 Q105.853 1477.73 105.853 1486.48 Q105.853 1495.21 102.774 1499.82 Q99.7187 1504.4 93.9086 1504.4 Q88.0984 1504.4 85.0197 1499.82 Q81.9642 1495.21 81.9642 1486.48 Q81.9642 1477.73 85.0197 1473.15 Q88.0984 1468.54 93.9086 1468.54 Z\" fill=\"#000000\" fill-rule=\"nonzero\" fill-opacity=\"1\" /><path clip-path=\"url(#clip730)\" d=\"M57.7745 1159.05 L74.0939 1159.05 L74.0939 1162.98 L52.1495 1162.98 L52.1495 1159.05 Q54.8115 1156.29 59.3949 1151.66 Q64.0013 1147.01 65.1819 1145.67 Q67.4272 1143.15 68.3068 1141.41 Q69.2096 1139.65 69.2096 1137.96 Q69.2096 1135.21 67.2652 1133.47 Q65.3439 1131.73 62.2421 1131.73 Q60.043 1131.73 57.5893 1132.5 Q55.1588 1133.26 52.381 1134.81 L52.381 1130.09 Q55.2051 1128.96 57.6588 1128.38 Q60.1124 1127.8 62.1495 1127.8 Q67.5198 1127.8 70.7142 1130.48 Q73.9087 1133.17 73.9087 1137.66 Q73.9087 1139.79 73.0985 1141.71 Q72.3115 1143.61 70.205 1146.2 Q69.6263 1146.87 66.5245 1150.09 Q63.4226 1153.28 57.7745 1159.05 Z\" fill=\"#000000\" fill-rule=\"nonzero\" fill-opacity=\"1\" /><path clip-path=\"url(#clip730)\" d=\"M93.9086 1131.5 Q90.2975 1131.5 88.4688 1135.07 Q86.6632 1138.61 86.6632 1145.74 Q86.6632 1152.85 88.4688 1156.41 Q90.2975 1159.95 93.9086 1159.95 Q97.5428 1159.95 99.3483 1156.41 Q101.177 1152.85 101.177 1145.74 Q101.177 1138.61 99.3483 1135.07 Q97.5428 1131.5 93.9086 1131.5 M93.9086 1127.8 Q99.7187 1127.8 102.774 1132.41 Q105.853 1136.99 105.853 1145.74 Q105.853 1154.47 102.774 1159.07 Q99.7187 1163.66 93.9086 1163.66 Q88.0984 1163.66 85.0197 1159.07 Q81.9642 1154.47 81.9642 1145.74 Q81.9642 1136.99 85.0197 1132.41 Q88.0984 1127.8 93.9086 1127.8 Z\" fill=\"#000000\" fill-rule=\"nonzero\" fill-opacity=\"1\" /><path clip-path=\"url(#clip730)\" d=\"M66.5939 791.754 L54.7884 810.203 L66.5939 810.203 L66.5939 791.754 M65.367 787.68 L71.2466 787.68 L71.2466 810.203 L76.1772 810.203 L76.1772 814.092 L71.2466 814.092 L71.2466 822.24 L66.5939 822.24 L66.5939 814.092 L50.9921 814.092 L50.9921 809.578 L65.367 787.68 Z\" fill=\"#000000\" fill-rule=\"nonzero\" fill-opacity=\"1\" /><path clip-path=\"url(#clip730)\" d=\"M93.9086 790.759 Q90.2975 790.759 88.4688 794.323 Q86.6632 797.865 86.6632 804.995 Q86.6632 812.101 88.4688 815.666 Q90.2975 819.208 93.9086 819.208 Q97.5428 819.208 99.3483 815.666 Q101.177 812.101 101.177 804.995 Q101.177 797.865 99.3483 794.323 Q97.5428 790.759 93.9086 790.759 M93.9086 787.055 Q99.7187 787.055 102.774 791.661 Q105.853 796.245 105.853 804.995 Q105.853 813.722 102.774 818.328 Q99.7187 822.911 93.9086 822.911 Q88.0984 822.911 85.0197 818.328 Q81.9642 813.722 81.9642 804.995 Q81.9642 796.245 85.0197 791.661 Q88.0984 787.055 93.9086 787.055 Z\" fill=\"#000000\" fill-rule=\"nonzero\" fill-opacity=\"1\" /><path clip-path=\"url(#clip730)\" d=\"M64.3254 462.353 Q61.1773 462.353 59.3254 464.505 Q57.4967 466.658 57.4967 470.408 Q57.4967 474.135 59.3254 476.311 Q61.1773 478.464 64.3254 478.464 Q67.4735 478.464 69.3022 476.311 Q71.1541 474.135 71.1541 470.408 Q71.1541 466.658 69.3022 464.505 Q67.4735 462.353 64.3254 462.353 M73.6077 447.7 L73.6077 451.959 Q71.8485 451.126 70.0429 450.686 Q68.2606 450.246 66.5013 450.246 Q61.8717 450.246 59.418 453.371 Q56.9875 456.496 56.6402 462.816 Q58.006 460.802 60.0662 459.737 Q62.1263 458.649 64.6032 458.649 Q69.8115 458.649 72.8207 461.82 Q75.8531 464.968 75.8531 470.408 Q75.8531 475.732 72.705 478.95 Q69.5568 482.167 64.3254 482.167 Q58.33 482.167 55.1588 477.584 Q51.9875 472.978 51.9875 464.251 Q51.9875 456.056 55.8764 451.195 Q59.7652 446.311 66.3161 446.311 Q68.0754 446.311 69.8578 446.658 Q71.6633 447.006 73.6077 447.7 Z\" fill=\"#000000\" fill-rule=\"nonzero\" fill-opacity=\"1\" /><path clip-path=\"url(#clip730)\" d=\"M93.9086 450.015 Q90.2975 450.015 88.4688 453.58 Q86.6632 457.121 86.6632 464.251 Q86.6632 471.357 88.4688 474.922 Q90.2975 478.464 93.9086 478.464 Q97.5428 478.464 99.3483 474.922 Q101.177 471.357 101.177 464.251 Q101.177 457.121 99.3483 453.58 Q97.5428 450.015 93.9086 450.015 M93.9086 446.311 Q99.7187 446.311 102.774 450.918 Q105.853 455.501 105.853 464.251 Q105.853 472.978 102.774 477.584 Q99.7187 482.167 93.9086 482.167 Q88.0984 482.167 85.0197 477.584 Q81.9642 472.978 81.9642 464.251 Q81.9642 455.501 85.0197 450.918 Q88.0984 446.311 93.9086 446.311 Z\" fill=\"#000000\" fill-rule=\"nonzero\" fill-opacity=\"1\" /><path clip-path=\"url(#clip730)\" d=\"M63.7467 124.34 Q60.4134 124.34 58.4921 126.123 Q56.5939 127.905 56.5939 131.03 Q56.5939 134.155 58.4921 135.937 Q60.4134 137.72 63.7467 137.72 Q67.08 137.72 69.0013 135.937 Q70.9226 134.132 70.9226 131.03 Q70.9226 127.905 69.0013 126.123 Q67.1032 124.34 63.7467 124.34 M59.0708 122.349 Q56.0615 121.609 54.3717 119.549 Q52.7051 117.488 52.7051 114.525 Q52.7051 110.382 55.6449 107.975 Q58.6078 105.567 63.7467 105.567 Q68.9087 105.567 71.8485 107.975 Q74.7883 110.382 74.7883 114.525 Q74.7883 117.488 73.0985 119.549 Q71.4318 121.609 68.4457 122.349 Q71.8253 123.136 73.7003 125.428 Q75.5985 127.72 75.5985 131.03 Q75.5985 136.053 72.5198 138.738 Q69.4642 141.423 63.7467 141.423 Q58.0291 141.423 54.9504 138.738 Q51.8949 136.053 51.8949 131.03 Q51.8949 127.72 53.793 125.428 Q55.6912 123.136 59.0708 122.349 M57.3578 114.965 Q57.3578 117.65 59.0245 119.155 Q60.7143 120.66 63.7467 120.66 Q66.7559 120.66 68.4457 119.155 Q70.1587 117.65 70.1587 114.965 Q70.1587 112.28 68.4457 110.775 Q66.7559 109.271 63.7467 109.271 Q60.7143 109.271 59.0245 110.775 Q57.3578 112.28 57.3578 114.965 Z\" fill=\"#000000\" fill-rule=\"nonzero\" fill-opacity=\"1\" /><path clip-path=\"url(#clip730)\" d=\"M93.9086 109.271 Q90.2975 109.271 88.4688 112.836 Q86.6632 116.377 86.6632 123.507 Q86.6632 130.613 88.4688 134.178 Q90.2975 137.72 93.9086 137.72 Q97.5428 137.72 99.3483 134.178 Q101.177 130.613 101.177 123.507 Q101.177 116.377 99.3483 112.836 Q97.5428 109.271 93.9086 109.271 M93.9086 105.567 Q99.7187 105.567 102.774 110.174 Q105.853 114.757 105.853 123.507 Q105.853 132.234 102.774 136.84 Q99.7187 141.423 93.9086 141.423 Q88.0984 141.423 85.0197 136.84 Q81.9642 132.234 81.9642 123.507 Q81.9642 114.757 85.0197 110.174 Q88.0984 105.567 93.9086 105.567 Z\" fill=\"#000000\" fill-rule=\"nonzero\" fill-opacity=\"1\" /><path clip-path=\"url(#clip730)\" d=\"M751.028 12.096 L763.221 12.096 L778.655 53.2532 L794.17 12.096 L806.364 12.096 L806.364 72.576 L798.383 72.576 L798.383 19.4686 L782.787 60.9499 L774.564 60.9499 L758.968 19.4686 L758.968 72.576 L751.028 72.576 L751.028 12.096 Z\" fill=\"#000000\" fill-rule=\"nonzero\" fill-opacity=\"1\" /><path clip-path=\"url(#clip730)\" d=\"M839.864 32.4315 Q833.869 32.4315 830.385 37.1306 Q826.902 41.7891 826.902 49.9314 Q826.902 58.0738 830.345 62.7728 Q833.829 67.4314 839.864 67.4314 Q845.819 67.4314 849.303 62.7323 Q852.787 58.0333 852.787 49.9314 Q852.787 41.8701 849.303 37.1711 Q845.819 32.4315 839.864 32.4315 M839.864 26.1121 Q849.587 26.1121 855.136 32.4315 Q860.686 38.7509 860.686 49.9314 Q860.686 61.0714 855.136 67.4314 Q849.587 73.7508 839.864 73.7508 Q830.102 73.7508 824.552 67.4314 Q819.043 61.0714 819.043 49.9314 Q819.043 38.7509 824.552 32.4315 Q830.102 26.1121 839.864 26.1121 Z\" fill=\"#000000\" fill-rule=\"nonzero\" fill-opacity=\"1\" /><path clip-path=\"url(#clip730)\" d=\"M905.611 49.9314 Q905.611 41.7081 902.208 37.0496 Q898.846 32.3505 892.931 32.3505 Q887.017 32.3505 883.614 37.0496 Q880.252 41.7081 880.252 49.9314 Q880.252 58.1548 883.614 62.8538 Q887.017 67.5124 892.931 67.5124 Q898.846 67.5124 902.208 62.8538 Q905.611 58.1548 905.611 49.9314 M880.252 34.0924 Q882.602 30.0415 886.166 28.0971 Q889.772 26.1121 894.754 26.1121 Q903.018 26.1121 908.163 32.6746 Q913.348 39.2371 913.348 49.9314 Q913.348 60.6258 908.163 67.1883 Q903.018 73.7508 894.754 73.7508 Q889.772 73.7508 886.166 71.8063 Q882.602 69.8214 880.252 65.7705 L880.252 72.576 L872.758 72.576 L872.758 9.54393 L880.252 9.54393 L880.252 34.0924 Z\" fill=\"#000000\" fill-rule=\"nonzero\" fill-opacity=\"1\" /><path clip-path=\"url(#clip730)\" d=\"M925.703 27.2059 L933.157 27.2059 L933.157 72.576 L925.703 72.576 L925.703 27.2059 M925.703 9.54393 L933.157 9.54393 L933.157 18.9825 L925.703 18.9825 L925.703 9.54393 Z\" fill=\"#000000\" fill-rule=\"nonzero\" fill-opacity=\"1\" /><path clip-path=\"url(#clip730)\" d=\"M948.753 9.54393 L956.206 9.54393 L956.206 72.576 L948.753 72.576 L948.753 9.54393 Z\" fill=\"#000000\" fill-rule=\"nonzero\" fill-opacity=\"1\" /><path clip-path=\"url(#clip730)\" d=\"M1010.61 48.0275 L1010.61 51.6733 L976.339 51.6733 Q976.826 59.3701 980.957 63.421 Q985.13 67.4314 992.543 67.4314 Q996.837 67.4314 1000.85 66.3781 Q1004.9 65.3249 1008.87 63.2184 L1008.87 70.267 Q1004.86 71.9684 1000.64 72.8596 Q996.432 73.7508 992.097 73.7508 Q981.241 73.7508 974.881 67.4314 Q968.562 61.1119 968.562 50.3365 Q968.562 39.1965 974.557 32.6746 Q980.593 26.1121 990.801 26.1121 Q999.956 26.1121 1005.26 32.0264 Q1010.61 37.9003 1010.61 48.0275 M1003.16 45.84 Q1003.08 39.7232 999.713 36.0774 Q996.391 32.4315 990.882 32.4315 Q984.644 32.4315 980.876 35.9558 Q977.15 39.4801 976.582 45.8805 L1003.16 45.84 Z\" fill=\"#000000\" fill-rule=\"nonzero\" fill-opacity=\"1\" /><path clip-path=\"url(#clip730)\" d=\"M1057.72 43.6931 L1057.72 65.8515 L1070.85 65.8515 Q1077.45 65.8515 1080.61 63.1374 Q1083.81 60.3828 1083.81 54.752 Q1083.81 49.0808 1080.61 46.4072 Q1077.45 43.6931 1070.85 43.6931 L1057.72 43.6931 M1057.72 18.8205 L1057.72 37.0496 L1069.83 37.0496 Q1075.83 37.0496 1078.75 34.8216 Q1081.7 32.5531 1081.7 27.935 Q1081.7 23.3575 1078.75 21.089 Q1075.83 18.8205 1069.83 18.8205 L1057.72 18.8205 M1049.54 12.096 L1070.44 12.096 Q1079.8 12.096 1084.86 15.9849 Q1089.93 19.8737 1089.93 27.0438 Q1089.93 32.5936 1087.33 35.8748 Q1084.74 39.156 1079.72 39.9662 Q1085.75 41.2625 1089.08 45.3944 Q1092.44 49.4858 1092.44 55.6432 Q1092.44 63.745 1086.93 68.1605 Q1081.42 72.576 1071.25 72.576 L1049.54 72.576 L1049.54 12.096 Z\" fill=\"#000000\" fill-rule=\"nonzero\" fill-opacity=\"1\" /><path clip-path=\"url(#clip730)\" d=\"M1126.75 49.7694 Q1117.72 49.7694 1114.23 51.8354 Q1110.75 53.9013 1110.75 58.8839 Q1110.75 62.8538 1113.34 65.2034 Q1115.97 67.5124 1120.47 67.5124 Q1126.67 67.5124 1130.4 63.1374 Q1134.16 58.7219 1134.16 51.4303 L1134.16 49.7694 L1126.75 49.7694 M1141.62 46.6907 L1141.62 72.576 L1134.16 72.576 L1134.16 65.6895 Q1131.61 69.8214 1127.8 71.8063 Q1123.99 73.7508 1118.49 73.7508 Q1111.52 73.7508 1107.39 69.8619 Q1103.29 65.9325 1103.29 59.3701 Q1103.29 51.7138 1108.4 47.825 Q1113.54 43.9361 1123.71 43.9361 L1134.16 43.9361 L1134.16 43.2069 Q1134.16 38.0623 1130.76 35.2672 Q1127.4 32.4315 1121.28 32.4315 Q1117.39 32.4315 1113.71 33.3632 Q1110.02 34.295 1106.62 36.1584 L1106.62 29.2718 Q1110.71 27.692 1114.56 26.9223 Q1118.4 26.1121 1122.05 26.1121 Q1131.89 26.1121 1136.76 31.2163 Q1141.62 36.3204 1141.62 46.6907 Z\" fill=\"#000000\" fill-rule=\"nonzero\" fill-opacity=\"1\" /><path clip-path=\"url(#clip730)\" d=\"M1185.89 28.5427 L1185.89 35.5912 Q1182.73 33.9709 1179.33 33.1607 Q1175.93 32.3505 1172.28 32.3505 Q1166.73 32.3505 1163.94 34.0519 Q1161.18 35.7533 1161.18 39.156 Q1161.18 41.7486 1163.17 43.2475 Q1165.15 44.7058 1171.15 46.0426 L1173.7 46.6097 Q1181.64 48.3111 1184.96 51.4303 Q1188.32 54.509 1188.32 60.0587 Q1188.32 66.3781 1183.3 70.0644 Q1178.32 73.7508 1169.57 73.7508 Q1165.92 73.7508 1161.95 73.0216 Q1158.02 72.3329 1153.65 70.9151 L1153.65 63.2184 Q1157.78 65.3654 1161.79 66.4591 Q1165.8 67.5124 1169.73 67.5124 Q1175 67.5124 1177.83 65.73 Q1180.67 63.9071 1180.67 60.6258 Q1180.67 57.5877 1178.6 55.9673 Q1176.58 54.3469 1169.65 52.8481 L1167.06 52.2405 Q1160.13 50.7821 1157.05 47.7845 Q1153.97 44.7463 1153.97 39.4801 Q1153.97 33.0797 1158.51 29.5959 Q1163.05 26.1121 1171.39 26.1121 Q1175.52 26.1121 1179.17 26.7198 Q1182.81 27.3274 1185.89 28.5427 Z\" fill=\"#000000\" fill-rule=\"nonzero\" fill-opacity=\"1\" /><path clip-path=\"url(#clip730)\" d=\"M1239 48.0275 L1239 51.6733 L1204.73 51.6733 Q1205.22 59.3701 1209.35 63.421 Q1213.52 67.4314 1220.93 67.4314 Q1225.23 67.4314 1229.24 66.3781 Q1233.29 65.3249 1237.26 63.2184 L1237.26 70.267 Q1233.25 71.9684 1229.03 72.8596 Q1224.82 73.7508 1220.49 73.7508 Q1209.63 73.7508 1203.27 67.4314 Q1196.95 61.1119 1196.95 50.3365 Q1196.95 39.1965 1202.95 32.6746 Q1208.98 26.1121 1219.19 26.1121 Q1228.35 26.1121 1233.65 32.0264 Q1239 37.9003 1239 48.0275 M1231.55 45.84 Q1231.47 39.7232 1228.1 36.0774 Q1224.78 32.4315 1219.27 32.4315 Q1213.03 32.4315 1209.27 35.9558 Q1205.54 39.4801 1204.97 45.8805 L1231.55 45.84 Z\" fill=\"#000000\" fill-rule=\"nonzero\" fill-opacity=\"1\" /><path clip-path=\"url(#clip730)\" d=\"M1269.54 12.096 L1320.71 12.096 L1320.71 18.9825 L1299.24 18.9825 L1299.24 72.576 L1291.01 72.576 L1291.01 18.9825 L1269.54 18.9825 L1269.54 12.096 Z\" fill=\"#000000\" fill-rule=\"nonzero\" fill-opacity=\"1\" /><path clip-path=\"url(#clip730)\" d=\"M1342.38 34.1734 Q1341.12 33.4443 1339.62 33.1202 Q1338.17 32.7556 1336.38 32.7556 Q1330.06 32.7556 1326.66 36.8875 Q1323.3 40.9789 1323.3 48.6757 L1323.3 72.576 L1315.81 72.576 L1315.81 27.2059 L1323.3 27.2059 L1323.3 34.2544 Q1325.65 30.1225 1329.42 28.1376 Q1333.18 26.1121 1338.57 26.1121 Q1339.34 26.1121 1340.27 26.2337 Q1341.2 26.3147 1342.34 26.5172 L1342.38 34.1734 Z\" fill=\"#000000\" fill-rule=\"nonzero\" fill-opacity=\"1\" /><path clip-path=\"url(#clip730)\" d=\"M1370.82 49.7694 Q1361.78 49.7694 1358.3 51.8354 Q1354.82 53.9013 1354.82 58.8839 Q1354.82 62.8538 1357.41 65.2034 Q1360.04 67.5124 1364.54 67.5124 Q1370.74 67.5124 1374.46 63.1374 Q1378.23 58.7219 1378.23 51.4303 L1378.23 49.7694 L1370.82 49.7694 M1385.68 46.6907 L1385.68 72.576 L1378.23 72.576 L1378.23 65.6895 Q1375.68 69.8214 1371.87 71.8063 Q1368.06 73.7508 1362.55 73.7508 Q1355.59 73.7508 1351.45 69.8619 Q1347.36 65.9325 1347.36 59.3701 Q1347.36 51.7138 1352.47 47.825 Q1357.61 43.9361 1367.78 43.9361 L1378.23 43.9361 L1378.23 43.2069 Q1378.23 38.0623 1374.83 35.2672 Q1371.46 32.4315 1365.35 32.4315 Q1361.46 32.4315 1357.77 33.3632 Q1354.09 34.295 1350.68 36.1584 L1350.68 29.2718 Q1354.77 27.692 1358.62 26.9223 Q1362.47 26.1121 1366.12 26.1121 Q1375.96 26.1121 1380.82 31.2163 Q1385.68 36.3204 1385.68 46.6907 Z\" fill=\"#000000\" fill-rule=\"nonzero\" fill-opacity=\"1\" /><path clip-path=\"url(#clip730)\" d=\"M1401.04 27.2059 L1408.49 27.2059 L1408.49 73.3862 Q1408.49 82.0551 1405.17 85.944 Q1401.89 89.8329 1394.55 89.8329 L1391.72 89.8329 L1391.72 83.5134 L1393.7 83.5134 Q1397.96 83.5134 1399.5 81.5285 Q1401.04 79.5841 1401.04 73.3862 L1401.04 27.2059 M1401.04 9.54393 L1408.49 9.54393 L1408.49 18.9825 L1401.04 18.9825 L1401.04 9.54393 Z\" fill=\"#000000\" fill-rule=\"nonzero\" fill-opacity=\"1\" /><path clip-path=\"url(#clip730)\" d=\"M1462.89 48.0275 L1462.89 51.6733 L1428.62 51.6733 Q1429.11 59.3701 1433.24 63.421 Q1437.41 67.4314 1444.83 67.4314 Q1449.12 67.4314 1453.13 66.3781 Q1457.18 65.3249 1461.15 63.2184 L1461.15 70.267 Q1457.14 71.9684 1452.93 72.8596 Q1448.72 73.7508 1444.38 73.7508 Q1433.52 73.7508 1427.16 67.4314 Q1420.85 61.1119 1420.85 50.3365 Q1420.85 39.1965 1426.84 32.6746 Q1432.88 26.1121 1443.08 26.1121 Q1452.24 26.1121 1457.55 32.0264 Q1462.89 37.9003 1462.89 48.0275 M1455.44 45.84 Q1455.36 39.7232 1452 36.0774 Q1448.67 32.4315 1443.17 32.4315 Q1436.93 32.4315 1433.16 35.9558 Q1429.43 39.4801 1428.87 45.8805 L1455.44 45.84 Z\" fill=\"#000000\" fill-rule=\"nonzero\" fill-opacity=\"1\" /><path clip-path=\"url(#clip730)\" d=\"M1507.78 28.9478 L1507.78 35.9153 Q1504.62 34.1734 1501.42 33.3227 Q1498.26 32.4315 1495.02 32.4315 Q1487.77 32.4315 1483.76 37.0496 Q1479.75 41.6271 1479.75 49.9314 Q1479.75 58.2358 1483.76 62.8538 Q1487.77 67.4314 1495.02 67.4314 Q1498.26 67.4314 1501.42 66.5807 Q1504.62 65.6895 1507.78 63.9476 L1507.78 70.8341 Q1504.66 72.2924 1501.3 73.0216 Q1497.97 73.7508 1494.21 73.7508 Q1483.96 73.7508 1477.92 67.3098 Q1471.89 60.8689 1471.89 49.9314 Q1471.89 38.832 1477.96 32.472 Q1484.08 26.1121 1494.69 26.1121 Q1498.14 26.1121 1501.42 26.8413 Q1504.7 27.5299 1507.78 28.9478 Z\" fill=\"#000000\" fill-rule=\"nonzero\" fill-opacity=\"1\" /><path clip-path=\"url(#clip730)\" d=\"M1528.11 14.324 L1528.11 27.2059 L1543.47 27.2059 L1543.47 32.9987 L1528.11 32.9987 L1528.11 57.6282 Q1528.11 63.1779 1529.61 64.7578 Q1531.15 66.3376 1535.81 66.3376 L1543.47 66.3376 L1543.47 72.576 L1535.81 72.576 Q1527.18 72.576 1523.9 69.3758 Q1520.62 66.1351 1520.62 57.6282 L1520.62 32.9987 L1515.15 32.9987 L1515.15 27.2059 L1520.62 27.2059 L1520.62 14.324 L1528.11 14.324 Z\" fill=\"#000000\" fill-rule=\"nonzero\" fill-opacity=\"1\" /><path clip-path=\"url(#clip730)\" d=\"M1570.85 32.4315 Q1564.85 32.4315 1561.37 37.1306 Q1557.89 41.7891 1557.89 49.9314 Q1557.89 58.0738 1561.33 62.7728 Q1564.81 67.4314 1570.85 67.4314 Q1576.8 67.4314 1580.29 62.7323 Q1583.77 58.0333 1583.77 49.9314 Q1583.77 41.8701 1580.29 37.1711 Q1576.8 32.4315 1570.85 32.4315 M1570.85 26.1121 Q1580.57 26.1121 1586.12 32.4315 Q1591.67 38.7509 1591.67 49.9314 Q1591.67 61.0714 1586.12 67.4314 Q1580.57 73.7508 1570.85 73.7508 Q1561.09 73.7508 1555.54 67.4314 Q1550.03 61.0714 1550.03 49.9314 Q1550.03 38.7509 1555.54 32.4315 Q1561.09 26.1121 1570.85 26.1121 Z\" fill=\"#000000\" fill-rule=\"nonzero\" fill-opacity=\"1\" /><path clip-path=\"url(#clip730)\" d=\"M1630.32 34.1734 Q1629.06 33.4443 1627.56 33.1202 Q1626.1 32.7556 1624.32 32.7556 Q1618 32.7556 1614.6 36.8875 Q1611.24 40.9789 1611.24 48.6757 L1611.24 72.576 L1603.74 72.576 L1603.74 27.2059 L1611.24 27.2059 L1611.24 34.2544 Q1613.59 30.1225 1617.35 28.1376 Q1621.12 26.1121 1626.51 26.1121 Q1627.28 26.1121 1628.21 26.2337 Q1629.14 26.3147 1630.28 26.5172 L1630.32 34.1734 Z\" fill=\"#000000\" fill-rule=\"nonzero\" fill-opacity=\"1\" /><path clip-path=\"url(#clip730)\" d=\"M1638.14 27.2059 L1645.59 27.2059 L1645.59 72.576 L1638.14 72.576 L1638.14 27.2059 M1638.14 9.54393 L1645.59 9.54393 L1645.59 18.9825 L1638.14 18.9825 L1638.14 9.54393 Z\" fill=\"#000000\" fill-rule=\"nonzero\" fill-opacity=\"1\" /><path clip-path=\"url(#clip730)\" d=\"M1699.99 48.0275 L1699.99 51.6733 L1665.72 51.6733 Q1666.21 59.3701 1670.34 63.421 Q1674.51 67.4314 1681.93 67.4314 Q1686.22 67.4314 1690.23 66.3781 Q1694.28 65.3249 1698.25 63.2184 L1698.25 70.267 Q1694.24 71.9684 1690.03 72.8596 Q1685.81 73.7508 1681.48 73.7508 Q1670.62 73.7508 1664.26 67.4314 Q1657.94 61.1119 1657.94 50.3365 Q1657.94 39.1965 1663.94 32.6746 Q1669.98 26.1121 1680.18 26.1121 Q1689.34 26.1121 1694.65 32.0264 Q1699.99 37.9003 1699.99 48.0275 M1692.54 45.84 Q1692.46 39.7232 1689.1 36.0774 Q1685.77 32.4315 1680.27 32.4315 Q1674.03 32.4315 1670.26 35.9558 Q1666.53 39.4801 1665.97 45.8805 L1692.54 45.84 Z\" fill=\"#000000\" fill-rule=\"nonzero\" fill-opacity=\"1\" /><path clip-path=\"url(#clip730)\" d=\"M1741.15 28.5427 L1741.15 35.5912 Q1737.99 33.9709 1734.59 33.1607 Q1731.18 32.3505 1727.54 32.3505 Q1721.99 32.3505 1719.19 34.0519 Q1716.44 35.7533 1716.44 39.156 Q1716.44 41.7486 1718.42 43.2475 Q1720.41 44.7058 1726.4 46.0426 L1728.96 46.6097 Q1736.9 48.3111 1740.22 51.4303 Q1743.58 54.509 1743.58 60.0587 Q1743.58 66.3781 1738.56 70.0644 Q1733.57 73.7508 1724.83 73.7508 Q1721.18 73.7508 1717.21 73.0216 Q1713.28 72.3329 1708.9 70.9151 L1708.9 63.2184 Q1713.04 65.3654 1717.05 66.4591 Q1721.06 67.5124 1724.99 67.5124 Q1730.25 67.5124 1733.09 65.73 Q1735.92 63.9071 1735.92 60.6258 Q1735.92 57.5877 1733.86 55.9673 Q1731.83 54.3469 1724.91 52.8481 L1722.31 52.2405 Q1715.39 50.7821 1712.31 47.7845 Q1709.23 44.7463 1709.23 39.4801 Q1709.23 33.0797 1713.77 29.5959 Q1718.3 26.1121 1726.65 26.1121 Q1730.78 26.1121 1734.43 26.7198 Q1738.07 27.3274 1741.15 28.5427 Z\" fill=\"#000000\" fill-rule=\"nonzero\" fill-opacity=\"1\" /><polyline clip-path=\"url(#clip732)\" style=\"stroke:#ff0000; stroke-linecap:round; stroke-linejoin:round; stroke-width:4; stroke-opacity:1; fill:none\" points=\"197.126,1071.91 220.481,1083.79 248.451,1096.09 278.496,1106.56 321.751,1116.38 405.666,1125.75 665.568,1131.85 670.767,1131.45 674.96,1129.23 802.101,858.783 868.434,835.182 919.869,830.838 1288.17,828.307 1546.46,1117.81 1550.52,1119.97 1552.47,1120.61 1557.87,1119.89 1796.92,1116.72 1899.02,1110.43 1977.2,1104.37 2035.01,1098.35 2078.58,1091.61 2119.9,1086.73 2151.3,1078.99 2178.1,1071.83 2199.99,1065.25 \"/>\n",
       "<polyline clip-path=\"url(#clip732)\" style=\"stroke:#000000; stroke-linecap:round; stroke-linejoin:round; stroke-width:4; stroke-opacity:1; fill:none\" points=\"666.942,975.332 666.72,971.01 666.053,966.705 664.945,962.435 663.399,958.217 661.423,954.067 659.024,950.004 656.211,946.042 652.997,942.198 649.394,938.488 645.416,934.926 641.08,931.527 636.403,928.304 631.403,925.27 626.102,922.439 620.52,919.82 614.679,917.424 608.605,915.262 602.319,913.342 595.849,911.671 589.22,910.257 582.459,909.104 575.593,908.219 568.65,907.603 561.657,907.26 554.643,907.192 547.637,907.398 540.665,907.877 533.757,908.628 526.94,909.647 520.241,910.931 513.689,912.475 507.308,914.271 501.125,916.313 495.164,918.593 489.45,921.102 484.006,923.829 478.853,926.763 474.012,929.892 469.503,933.205 465.344,936.688 461.551,940.325 458.141,944.104 455.126,948.009 452.519,952.024 450.33,956.132 448.568,960.318 447.241,964.564 446.353,968.854 445.908,973.17 445.908,977.494 446.353,981.81 447.241,986.1 448.568,990.346 450.33,994.532 452.519,998.64 455.126,1002.65 458.141,1006.56 461.551,1010.34 465.344,1013.98 469.503,1017.46 474.012,1020.77 478.853,1023.9 484.006,1026.84 489.45,1029.56 495.164,1032.07 501.125,1034.35 507.308,1036.39 513.689,1038.19 520.241,1039.73 526.94,1041.02 533.757,1042.04 540.665,1042.79 547.637,1043.27 554.643,1043.47 561.657,1043.4 568.65,1043.06 575.593,1042.45 582.459,1041.56 589.22,1040.41 595.849,1038.99 602.319,1037.32 608.605,1035.4 614.679,1033.24 620.52,1030.84 626.102,1028.23 631.403,1025.39 636.403,1022.36 641.08,1019.14 645.416,1015.74 649.394,1012.18 652.997,1008.47 656.211,1004.62 659.024,1000.66 661.423,996.597 663.399,992.447 664.945,988.229 666.053,983.959 666.72,979.654 666.942,975.332 \"/>\n",
       "<polyline clip-path=\"url(#clip732)\" style=\"stroke:#000000; stroke-linecap:round; stroke-linejoin:round; stroke-width:4; stroke-opacity:1; fill:none\" points=\"1385.49,1077.56 1384.93,1066.75 1383.26,1055.99 1380.49,1045.31 1376.63,1034.77 1371.69,1024.39 1365.69,1014.23 1358.66,1004.33 1350.62,994.721 1341.61,985.445 1331.67,976.54 1320.83,968.042 1309.14,959.985 1296.64,952.401 1283.38,945.322 1269.43,938.774 1254.83,932.786 1239.64,927.38 1223.93,922.579 1207.75,918.403 1191.18,914.867 1174.28,911.986 1157.11,909.772 1139.75,908.233 1122.27,907.376 1104.74,907.205 1087.22,907.719 1069.79,908.917 1052.52,910.795 1035.48,913.343 1018.73,916.553 1002.35,920.412 986.399,924.903 970.942,930.009 956.04,935.709 941.755,941.98 928.144,948.797 915.261,956.132 903.16,963.956 891.887,972.238 881.489,980.944 872.008,990.039 863.482,999.486 855.945,1009.25 849.427,1019.28 843.955,1029.56 839.55,1040.02 836.232,1050.64 834.012,1061.36 832.899,1072.15 832.899,1082.96 834.012,1093.75 836.232,1104.47 839.55,1115.09 843.955,1125.55 849.427,1135.83 855.945,1145.86 863.482,1155.62 872.008,1165.07 881.489,1174.17 891.887,1182.87 903.16,1191.15 915.261,1198.98 928.144,1206.31 941.755,1213.13 956.04,1219.4 970.942,1225.1 986.399,1230.21 1002.35,1234.7 1018.73,1238.56 1035.48,1241.77 1052.52,1244.32 1069.79,1246.19 1087.22,1247.39 1104.74,1247.91 1122.27,1247.73 1139.75,1246.88 1157.11,1245.34 1174.28,1243.12 1191.18,1240.24 1207.75,1236.71 1223.93,1232.53 1239.64,1227.73 1254.83,1222.32 1269.43,1216.34 1283.38,1209.79 1296.64,1202.71 1309.14,1195.13 1320.83,1187.07 1331.67,1178.57 1341.61,1169.67 1350.62,1160.39 1358.66,1150.78 1365.69,1140.88 1371.69,1130.72 1376.63,1120.34 1380.49,1109.8 1383.26,1099.12 1384.93,1088.36 1385.49,1077.56 \"/>\n",
       "<polyline clip-path=\"url(#clip732)\" style=\"stroke:#000000; stroke-linecap:round; stroke-linejoin:round; stroke-width:4; stroke-opacity:1; fill:none\" points=\"1882.94,890.146 1882.49,881.501 1881.16,872.892 1878.94,864.351 1875.85,855.915 1871.9,847.617 1867.1,839.489 1861.48,831.566 1855.05,823.879 1847.84,816.458 1839.89,809.334 1831.21,802.536 1821.86,796.09 1811.86,790.023 1801.26,784.359 1790.09,779.121 1778.41,774.33 1766.26,770.006 1753.69,766.165 1740.75,762.824 1727.49,759.995 1713.97,757.69 1700.24,755.919 1686.35,754.688 1672.37,754.003 1658.34,753.866 1644.33,754.277 1630.38,755.236 1616.57,756.738 1602.93,758.777 1589.54,761.345 1576.43,764.431 1563.67,768.024 1551.3,772.109 1539.38,776.669 1527.95,781.686 1517.07,787.139 1506.76,793.007 1497.08,799.267 1488.06,805.892 1479.74,812.857 1472.16,820.133 1465.34,827.691 1459.31,835.5 1454.09,843.529 1449.71,851.747 1446.19,860.118 1443.54,868.611 1441.76,877.19 1440.87,885.822 1440.87,894.47 1441.76,903.102 1443.54,911.681 1446.19,920.174 1449.71,928.545 1454.09,936.763 1459.31,944.792 1465.34,952.601 1472.16,960.159 1479.74,967.435 1488.06,974.4 1497.08,981.025 1506.76,987.284 1517.07,993.153 1527.95,998.606 1539.38,1003.62 1551.3,1008.18 1563.67,1012.27 1576.43,1015.86 1589.54,1018.95 1602.93,1021.52 1616.57,1023.55 1630.38,1025.06 1644.33,1026.01 1658.34,1026.43 1672.37,1026.29 1686.35,1025.6 1700.24,1024.37 1713.97,1022.6 1727.49,1020.3 1740.75,1017.47 1753.69,1014.13 1766.26,1010.29 1778.41,1005.96 1790.09,1001.17 1801.26,995.933 1811.86,990.269 1821.86,984.202 1831.21,977.756 1839.89,970.958 1847.84,963.834 1855.05,956.413 1861.48,948.726 1867.1,940.803 1871.9,932.675 1875.85,924.377 1878.94,915.94 1881.16,907.4 1882.49,898.791 1882.94,890.146 \"/>\n",
       "<polyline clip-path=\"url(#clip732)\" style=\"stroke:#0000ff; stroke-linecap:round; stroke-linejoin:round; stroke-width:4; stroke-opacity:1; fill:none\" stroke-dasharray=\"16, 10\" points=\"197.126,1060.52 277.823,1060.52 358.521,1060.52 439.219,1060.52 519.917,1060.52 600.615,1060.52 681.313,1060.52 762.011,1060.52 842.709,1060.52 923.407,1060.52 1004.11,1060.52 1084.8,1060.52 1165.5,1060.52 1246.2,1060.52 1326.9,1060.52 1407.59,1060.52 1488.29,1060.52 1568.99,1060.52 1649.69,1060.52 1730.39,1060.52 1811.08,1060.52 1891.78,1060.52 1972.48,1060.52 2053.18,1060.52 2133.88,1060.52 2214.57,1060.52 \"/>\n",
       "<path clip-path=\"url(#clip730)\" d=\"M1811.05 479.945 L2279.06 479.945 L2279.06 168.905 L1811.05 168.905  Z\" fill=\"#ffffff\" fill-rule=\"evenodd\" fill-opacity=\"1\"/>\n",
       "<polyline clip-path=\"url(#clip730)\" style=\"stroke:#000000; stroke-linecap:round; stroke-linejoin:round; stroke-width:4; stroke-opacity:1; fill:none\" points=\"1811.05,479.945 2279.06,479.945 2279.06,168.905 1811.05,168.905 1811.05,479.945 \"/>\n",
       "<polyline clip-path=\"url(#clip730)\" style=\"stroke:#ff0000; stroke-linecap:round; stroke-linejoin:round; stroke-width:4; stroke-opacity:1; fill:none\" points=\"1835.61,220.745 1983.01,220.745 \"/>\n",
       "<path clip-path=\"url(#clip730)\" d=\"M2028.08 213.094 L2028.08 217.076 Q2026.28 216.08 2024.45 215.594 Q2022.64 215.085 2020.79 215.085 Q2016.65 215.085 2014.36 217.724 Q2012.06 220.34 2012.06 225.085 Q2012.06 229.83 2014.36 232.469 Q2016.65 235.085 2020.79 235.085 Q2022.64 235.085 2024.45 234.599 Q2026.28 234.089 2028.08 233.094 L2028.08 237.029 Q2026.3 237.863 2024.38 238.279 Q2022.48 238.696 2020.33 238.696 Q2014.47 238.696 2011.02 235.015 Q2007.57 231.335 2007.57 225.085 Q2007.57 218.742 2011.05 215.108 Q2014.54 211.474 2020.61 211.474 Q2022.57 211.474 2024.45 211.891 Q2026.32 212.284 2028.08 213.094 Z\" fill=\"#000000\" fill-rule=\"nonzero\" fill-opacity=\"1\" /><path clip-path=\"url(#clip730)\" d=\"M2047.27 224.992 Q2042.11 224.992 2040.12 226.173 Q2038.13 227.353 2038.13 230.201 Q2038.13 232.469 2039.61 233.812 Q2041.12 235.131 2043.68 235.131 Q2047.23 235.131 2049.36 232.631 Q2051.51 230.108 2051.51 225.941 L2051.51 224.992 L2047.27 224.992 M2055.77 223.233 L2055.77 238.025 L2051.51 238.025 L2051.51 234.089 Q2050.05 236.451 2047.87 237.585 Q2045.7 238.696 2042.55 238.696 Q2038.57 238.696 2036.21 236.474 Q2033.87 234.228 2033.87 230.478 Q2033.87 226.103 2036.79 223.881 Q2039.73 221.659 2045.54 221.659 L2051.51 221.659 L2051.51 221.242 Q2051.51 218.303 2049.56 216.705 Q2047.64 215.085 2044.15 215.085 Q2041.93 215.085 2039.82 215.617 Q2037.71 216.15 2035.77 217.215 L2035.77 213.279 Q2038.11 212.377 2040.3 211.937 Q2042.5 211.474 2044.59 211.474 Q2050.21 211.474 2052.99 214.391 Q2055.77 217.307 2055.77 223.233 Z\" fill=\"#000000\" fill-rule=\"nonzero\" fill-opacity=\"1\" /><path clip-path=\"url(#clip730)\" d=\"M2079.56 216.08 Q2078.85 215.664 2077.99 215.478 Q2077.16 215.27 2076.14 215.27 Q2072.53 215.27 2070.58 217.631 Q2068.66 219.969 2068.66 224.367 L2068.66 238.025 L2064.38 238.025 L2064.38 212.099 L2068.66 212.099 L2068.66 216.127 Q2070 213.766 2072.16 212.631 Q2074.31 211.474 2077.39 211.474 Q2077.83 211.474 2078.36 211.543 Q2078.89 211.59 2079.54 211.705 L2079.56 216.08 Z\" fill=\"#000000\" fill-rule=\"nonzero\" fill-opacity=\"1\" /><polyline clip-path=\"url(#clip730)\" style=\"stroke:#000000; stroke-linecap:round; stroke-linejoin:round; stroke-width:4; stroke-opacity:1; fill:none\" points=\"1835.61,272.585 1983.01,272.585 \"/>\n",
       "<path clip-path=\"url(#clip730)\" d=\"M2023.59 258.476 Q2018.5 258.476 2015.49 262.272 Q2012.5 266.068 2012.5 272.619 Q2012.5 279.147 2015.49 282.943 Q2018.5 286.74 2023.59 286.74 Q2028.68 286.74 2031.65 282.943 Q2034.63 279.147 2034.63 272.619 Q2034.63 266.068 2031.65 262.272 Q2028.68 258.476 2023.59 258.476 M2023.59 254.68 Q2030.86 254.68 2035.21 259.564 Q2039.56 264.425 2039.56 272.619 Q2039.56 280.791 2035.21 285.675 Q2030.86 290.536 2023.59 290.536 Q2016.3 290.536 2011.93 285.675 Q2007.57 280.814 2007.57 272.619 Q2007.57 264.425 2011.93 259.564 Q2016.3 254.68 2023.59 254.68 Z\" fill=\"#000000\" fill-rule=\"nonzero\" fill-opacity=\"1\" /><path clip-path=\"url(#clip730)\" d=\"M2065.3 276.925 Q2065.3 272.226 2063.36 269.564 Q2061.44 266.879 2058.06 266.879 Q2054.68 266.879 2052.74 269.564 Q2050.81 272.226 2050.81 276.925 Q2050.81 281.624 2052.74 284.309 Q2054.68 286.971 2058.06 286.971 Q2061.44 286.971 2063.36 284.309 Q2065.3 281.624 2065.3 276.925 M2050.81 267.874 Q2052.16 265.559 2054.19 264.448 Q2056.25 263.314 2059.1 263.314 Q2063.82 263.314 2066.76 267.064 Q2069.73 270.814 2069.73 276.925 Q2069.73 283.036 2066.76 286.786 Q2063.82 290.536 2059.1 290.536 Q2056.25 290.536 2054.19 289.425 Q2052.16 288.291 2050.81 285.976 L2050.81 289.865 L2046.53 289.865 L2046.53 253.846 L2050.81 253.846 L2050.81 267.874 Z\" fill=\"#000000\" fill-rule=\"nonzero\" fill-opacity=\"1\" /><path clip-path=\"url(#clip730)\" d=\"M2093.31 264.703 L2093.31 268.731 Q2091.51 267.805 2089.56 267.342 Q2087.62 266.879 2085.54 266.879 Q2082.36 266.879 2080.77 267.851 Q2079.19 268.823 2079.19 270.768 Q2079.19 272.249 2080.33 273.105 Q2081.46 273.939 2084.89 274.703 L2086.35 275.027 Q2090.88 275.999 2092.78 277.781 Q2094.7 279.541 2094.7 282.712 Q2094.7 286.323 2091.83 288.429 Q2088.99 290.536 2083.99 290.536 Q2081.9 290.536 2079.63 290.119 Q2077.39 289.726 2074.89 288.916 L2074.89 284.517 Q2077.25 285.744 2079.54 286.369 Q2081.83 286.971 2084.08 286.971 Q2087.09 286.971 2088.71 285.953 Q2090.33 284.911 2090.33 283.036 Q2090.33 281.3 2089.15 280.374 Q2087.99 279.448 2084.03 278.592 L2082.55 278.244 Q2078.59 277.411 2076.83 275.698 Q2075.07 273.962 2075.07 270.953 Q2075.07 267.295 2077.67 265.305 Q2080.26 263.314 2085.03 263.314 Q2087.39 263.314 2089.47 263.661 Q2091.55 264.008 2093.31 264.703 Z\" fill=\"#000000\" fill-rule=\"nonzero\" fill-opacity=\"1\" /><path clip-path=\"url(#clip730)\" d=\"M2105.7 256.578 L2105.7 263.939 L2114.47 263.939 L2114.47 267.249 L2105.7 267.249 L2105.7 281.323 Q2105.7 284.494 2106.55 285.397 Q2107.43 286.3 2110.1 286.3 L2114.47 286.3 L2114.47 289.865 L2110.1 289.865 Q2105.17 289.865 2103.29 288.036 Q2101.42 286.184 2101.42 281.323 L2101.42 267.249 L2098.29 267.249 L2098.29 263.939 L2101.42 263.939 L2101.42 256.578 L2105.7 256.578 Z\" fill=\"#000000\" fill-rule=\"nonzero\" fill-opacity=\"1\" /><path clip-path=\"url(#clip730)\" d=\"M2131.86 276.832 Q2126.69 276.832 2124.7 278.013 Q2122.71 279.193 2122.71 282.041 Q2122.71 284.309 2124.19 285.652 Q2125.7 286.971 2128.27 286.971 Q2131.81 286.971 2133.94 284.471 Q2136.09 281.948 2136.09 277.781 L2136.09 276.832 L2131.86 276.832 M2140.35 275.073 L2140.35 289.865 L2136.09 289.865 L2136.09 285.929 Q2134.63 288.291 2132.46 289.425 Q2130.28 290.536 2127.13 290.536 Q2123.15 290.536 2120.79 288.314 Q2118.45 286.068 2118.45 282.318 Q2118.45 277.943 2121.37 275.721 Q2124.31 273.499 2130.12 273.499 L2136.09 273.499 L2136.09 273.082 Q2136.09 270.143 2134.15 268.545 Q2132.23 266.925 2128.73 266.925 Q2126.51 266.925 2124.4 267.457 Q2122.3 267.99 2120.35 269.055 L2120.35 265.119 Q2122.69 264.217 2124.89 263.777 Q2127.09 263.314 2129.17 263.314 Q2134.8 263.314 2137.57 266.231 Q2140.35 269.147 2140.35 275.073 Z\" fill=\"#000000\" fill-rule=\"nonzero\" fill-opacity=\"1\" /><path clip-path=\"url(#clip730)\" d=\"M2167.78 264.934 L2167.78 268.916 Q2165.98 267.92 2164.15 267.434 Q2162.34 266.925 2160.49 266.925 Q2156.35 266.925 2154.05 269.564 Q2151.76 272.18 2151.76 276.925 Q2151.76 281.67 2154.05 284.309 Q2156.35 286.925 2160.49 286.925 Q2162.34 286.925 2164.15 286.439 Q2165.98 285.929 2167.78 284.934 L2167.78 288.869 Q2166 289.703 2164.08 290.119 Q2162.18 290.536 2160.03 290.536 Q2154.17 290.536 2150.72 286.855 Q2147.27 283.175 2147.27 276.925 Q2147.27 270.582 2150.74 266.948 Q2154.24 263.314 2160.3 263.314 Q2162.27 263.314 2164.15 263.731 Q2166.02 264.124 2167.78 264.934 Z\" fill=\"#000000\" fill-rule=\"nonzero\" fill-opacity=\"1\" /><path clip-path=\"url(#clip730)\" d=\"M2175.19 253.846 L2179.45 253.846 L2179.45 289.865 L2175.19 289.865 L2175.19 253.846 Z\" fill=\"#000000\" fill-rule=\"nonzero\" fill-opacity=\"1\" /><path clip-path=\"url(#clip730)\" d=\"M2210.54 275.837 L2210.54 277.92 L2190.95 277.92 Q2191.23 282.318 2193.59 284.633 Q2195.98 286.925 2200.21 286.925 Q2202.67 286.925 2204.96 286.323 Q2207.27 285.721 2209.54 284.517 L2209.54 288.545 Q2207.25 289.517 2204.84 290.027 Q2202.43 290.536 2199.96 290.536 Q2193.75 290.536 2190.12 286.925 Q2186.51 283.314 2186.51 277.156 Q2186.51 270.791 2189.93 267.064 Q2193.38 263.314 2199.22 263.314 Q2204.45 263.314 2207.48 266.693 Q2210.54 270.05 2210.54 275.837 M2206.28 274.587 Q2206.23 271.092 2204.31 269.008 Q2202.41 266.925 2199.26 266.925 Q2195.7 266.925 2193.54 268.939 Q2191.42 270.953 2191.09 274.61 L2206.28 274.587 Z\" fill=\"#000000\" fill-rule=\"nonzero\" fill-opacity=\"1\" /><path clip-path=\"url(#clip730)\" d=\"M2234.01 285.929 L2241.65 285.929 L2241.65 259.564 L2233.34 261.231 L2233.34 256.971 L2241.6 255.305 L2246.28 255.305 L2246.28 285.929 L2253.91 285.929 L2253.91 289.865 L2234.01 289.865 L2234.01 285.929 Z\" fill=\"#000000\" fill-rule=\"nonzero\" fill-opacity=\"1\" /><polyline clip-path=\"url(#clip730)\" style=\"stroke:#000000; stroke-linecap:round; stroke-linejoin:round; stroke-width:4; stroke-opacity:1; fill:none\" points=\"1835.61,324.425 1983.01,324.425 \"/>\n",
       "<path clip-path=\"url(#clip730)\" d=\"M2023.59 310.316 Q2018.5 310.316 2015.49 314.112 Q2012.5 317.908 2012.5 324.459 Q2012.5 330.987 2015.49 334.783 Q2018.5 338.58 2023.59 338.58 Q2028.68 338.58 2031.65 334.783 Q2034.63 330.987 2034.63 324.459 Q2034.63 317.908 2031.65 314.112 Q2028.68 310.316 2023.59 310.316 M2023.59 306.52 Q2030.86 306.52 2035.21 311.404 Q2039.56 316.265 2039.56 324.459 Q2039.56 332.631 2035.21 337.515 Q2030.86 342.376 2023.59 342.376 Q2016.3 342.376 2011.93 337.515 Q2007.57 332.654 2007.57 324.459 Q2007.57 316.265 2011.93 311.404 Q2016.3 306.52 2023.59 306.52 Z\" fill=\"#000000\" fill-rule=\"nonzero\" fill-opacity=\"1\" /><path clip-path=\"url(#clip730)\" d=\"M2065.3 328.765 Q2065.3 324.066 2063.36 321.404 Q2061.44 318.719 2058.06 318.719 Q2054.68 318.719 2052.74 321.404 Q2050.81 324.066 2050.81 328.765 Q2050.81 333.464 2052.74 336.149 Q2054.68 338.811 2058.06 338.811 Q2061.44 338.811 2063.36 336.149 Q2065.3 333.464 2065.3 328.765 M2050.81 319.714 Q2052.16 317.399 2054.19 316.288 Q2056.25 315.154 2059.1 315.154 Q2063.82 315.154 2066.76 318.904 Q2069.73 322.654 2069.73 328.765 Q2069.73 334.876 2066.76 338.626 Q2063.82 342.376 2059.1 342.376 Q2056.25 342.376 2054.19 341.265 Q2052.16 340.131 2050.81 337.816 L2050.81 341.705 L2046.53 341.705 L2046.53 305.686 L2050.81 305.686 L2050.81 319.714 Z\" fill=\"#000000\" fill-rule=\"nonzero\" fill-opacity=\"1\" /><path clip-path=\"url(#clip730)\" d=\"M2093.31 316.543 L2093.31 320.571 Q2091.51 319.645 2089.56 319.182 Q2087.62 318.719 2085.54 318.719 Q2082.36 318.719 2080.77 319.691 Q2079.19 320.663 2079.19 322.608 Q2079.19 324.089 2080.33 324.945 Q2081.46 325.779 2084.89 326.543 L2086.35 326.867 Q2090.88 327.839 2092.78 329.621 Q2094.7 331.381 2094.7 334.552 Q2094.7 338.163 2091.83 340.269 Q2088.99 342.376 2083.99 342.376 Q2081.9 342.376 2079.63 341.959 Q2077.39 341.566 2074.89 340.756 L2074.89 336.357 Q2077.25 337.584 2079.54 338.209 Q2081.83 338.811 2084.08 338.811 Q2087.09 338.811 2088.71 337.793 Q2090.33 336.751 2090.33 334.876 Q2090.33 333.14 2089.15 332.214 Q2087.99 331.288 2084.03 330.432 L2082.55 330.084 Q2078.59 329.251 2076.83 327.538 Q2075.07 325.802 2075.07 322.793 Q2075.07 319.135 2077.67 317.145 Q2080.26 315.154 2085.03 315.154 Q2087.39 315.154 2089.47 315.501 Q2091.55 315.848 2093.31 316.543 Z\" fill=\"#000000\" fill-rule=\"nonzero\" fill-opacity=\"1\" /><path clip-path=\"url(#clip730)\" d=\"M2105.7 308.418 L2105.7 315.779 L2114.47 315.779 L2114.47 319.089 L2105.7 319.089 L2105.7 333.163 Q2105.7 336.334 2106.55 337.237 Q2107.43 338.14 2110.1 338.14 L2114.47 338.14 L2114.47 341.705 L2110.1 341.705 Q2105.17 341.705 2103.29 339.876 Q2101.42 338.024 2101.42 333.163 L2101.42 319.089 L2098.29 319.089 L2098.29 315.779 L2101.42 315.779 L2101.42 308.418 L2105.7 308.418 Z\" fill=\"#000000\" fill-rule=\"nonzero\" fill-opacity=\"1\" /><path clip-path=\"url(#clip730)\" d=\"M2131.86 328.672 Q2126.69 328.672 2124.7 329.853 Q2122.71 331.033 2122.71 333.881 Q2122.71 336.149 2124.19 337.492 Q2125.7 338.811 2128.27 338.811 Q2131.81 338.811 2133.94 336.311 Q2136.09 333.788 2136.09 329.621 L2136.09 328.672 L2131.86 328.672 M2140.35 326.913 L2140.35 341.705 L2136.09 341.705 L2136.09 337.769 Q2134.63 340.131 2132.46 341.265 Q2130.28 342.376 2127.13 342.376 Q2123.15 342.376 2120.79 340.154 Q2118.45 337.908 2118.45 334.158 Q2118.45 329.783 2121.37 327.561 Q2124.31 325.339 2130.12 325.339 L2136.09 325.339 L2136.09 324.922 Q2136.09 321.983 2134.15 320.385 Q2132.23 318.765 2128.73 318.765 Q2126.51 318.765 2124.4 319.297 Q2122.3 319.83 2120.35 320.895 L2120.35 316.959 Q2122.69 316.057 2124.89 315.617 Q2127.09 315.154 2129.17 315.154 Q2134.8 315.154 2137.57 318.071 Q2140.35 320.987 2140.35 326.913 Z\" fill=\"#000000\" fill-rule=\"nonzero\" fill-opacity=\"1\" /><path clip-path=\"url(#clip730)\" d=\"M2167.78 316.774 L2167.78 320.756 Q2165.98 319.76 2164.15 319.274 Q2162.34 318.765 2160.49 318.765 Q2156.35 318.765 2154.05 321.404 Q2151.76 324.02 2151.76 328.765 Q2151.76 333.51 2154.05 336.149 Q2156.35 338.765 2160.49 338.765 Q2162.34 338.765 2164.15 338.279 Q2165.98 337.769 2167.78 336.774 L2167.78 340.709 Q2166 341.543 2164.08 341.959 Q2162.18 342.376 2160.03 342.376 Q2154.17 342.376 2150.72 338.695 Q2147.27 335.015 2147.27 328.765 Q2147.27 322.422 2150.74 318.788 Q2154.24 315.154 2160.3 315.154 Q2162.27 315.154 2164.15 315.571 Q2166.02 315.964 2167.78 316.774 Z\" fill=\"#000000\" fill-rule=\"nonzero\" fill-opacity=\"1\" /><path clip-path=\"url(#clip730)\" d=\"M2175.19 305.686 L2179.45 305.686 L2179.45 341.705 L2175.19 341.705 L2175.19 305.686 Z\" fill=\"#000000\" fill-rule=\"nonzero\" fill-opacity=\"1\" /><path clip-path=\"url(#clip730)\" d=\"M2210.54 327.677 L2210.54 329.76 L2190.95 329.76 Q2191.23 334.158 2193.59 336.473 Q2195.98 338.765 2200.21 338.765 Q2202.67 338.765 2204.96 338.163 Q2207.27 337.561 2209.54 336.357 L2209.54 340.385 Q2207.25 341.357 2204.84 341.867 Q2202.43 342.376 2199.96 342.376 Q2193.75 342.376 2190.12 338.765 Q2186.51 335.154 2186.51 328.996 Q2186.51 322.631 2189.93 318.904 Q2193.38 315.154 2199.22 315.154 Q2204.45 315.154 2207.48 318.533 Q2210.54 321.89 2210.54 327.677 M2206.28 326.427 Q2206.23 322.932 2204.31 320.848 Q2202.41 318.765 2199.26 318.765 Q2195.7 318.765 2193.54 320.779 Q2191.42 322.793 2191.09 326.45 L2206.28 326.427 Z\" fill=\"#000000\" fill-rule=\"nonzero\" fill-opacity=\"1\" /><path clip-path=\"url(#clip730)\" d=\"M2237.23 337.769 L2253.54 337.769 L2253.54 341.705 L2231.6 341.705 L2231.6 337.769 Q2234.26 335.015 2238.85 330.385 Q2243.45 325.733 2244.63 324.39 Q2246.88 321.867 2247.76 320.131 Q2248.66 318.371 2248.66 316.682 Q2248.66 313.927 2246.72 312.191 Q2244.79 310.455 2241.69 310.455 Q2239.49 310.455 2237.04 311.219 Q2234.61 311.983 2231.83 313.534 L2231.83 308.811 Q2234.66 307.677 2237.11 307.098 Q2239.56 306.52 2241.6 306.52 Q2246.97 306.52 2250.16 309.205 Q2253.36 311.89 2253.36 316.381 Q2253.36 318.51 2252.55 320.432 Q2251.76 322.33 2249.66 324.922 Q2249.08 325.594 2245.98 328.811 Q2242.87 332.006 2237.23 337.769 Z\" fill=\"#000000\" fill-rule=\"nonzero\" fill-opacity=\"1\" /><polyline clip-path=\"url(#clip730)\" style=\"stroke:#000000; stroke-linecap:round; stroke-linejoin:round; stroke-width:4; stroke-opacity:1; fill:none\" points=\"1835.61,376.265 1983.01,376.265 \"/>\n",
       "<path clip-path=\"url(#clip730)\" d=\"M2023.59 362.156 Q2018.5 362.156 2015.49 365.952 Q2012.5 369.748 2012.5 376.299 Q2012.5 382.827 2015.49 386.623 Q2018.5 390.42 2023.59 390.42 Q2028.68 390.42 2031.65 386.623 Q2034.63 382.827 2034.63 376.299 Q2034.63 369.748 2031.65 365.952 Q2028.68 362.156 2023.59 362.156 M2023.59 358.36 Q2030.86 358.36 2035.21 363.244 Q2039.56 368.105 2039.56 376.299 Q2039.56 384.471 2035.21 389.355 Q2030.86 394.216 2023.59 394.216 Q2016.3 394.216 2011.93 389.355 Q2007.57 384.494 2007.57 376.299 Q2007.57 368.105 2011.93 363.244 Q2016.3 358.36 2023.59 358.36 Z\" fill=\"#000000\" fill-rule=\"nonzero\" fill-opacity=\"1\" /><path clip-path=\"url(#clip730)\" d=\"M2065.3 380.605 Q2065.3 375.906 2063.36 373.244 Q2061.44 370.559 2058.06 370.559 Q2054.68 370.559 2052.74 373.244 Q2050.81 375.906 2050.81 380.605 Q2050.81 385.304 2052.74 387.989 Q2054.68 390.651 2058.06 390.651 Q2061.44 390.651 2063.36 387.989 Q2065.3 385.304 2065.3 380.605 M2050.81 371.554 Q2052.16 369.239 2054.19 368.128 Q2056.25 366.994 2059.1 366.994 Q2063.82 366.994 2066.76 370.744 Q2069.73 374.494 2069.73 380.605 Q2069.73 386.716 2066.76 390.466 Q2063.82 394.216 2059.1 394.216 Q2056.25 394.216 2054.19 393.105 Q2052.16 391.971 2050.81 389.656 L2050.81 393.545 L2046.53 393.545 L2046.53 357.526 L2050.81 357.526 L2050.81 371.554 Z\" fill=\"#000000\" fill-rule=\"nonzero\" fill-opacity=\"1\" /><path clip-path=\"url(#clip730)\" d=\"M2093.31 368.383 L2093.31 372.411 Q2091.51 371.485 2089.56 371.022 Q2087.62 370.559 2085.54 370.559 Q2082.36 370.559 2080.77 371.531 Q2079.19 372.503 2079.19 374.448 Q2079.19 375.929 2080.33 376.785 Q2081.46 377.619 2084.89 378.383 L2086.35 378.707 Q2090.88 379.679 2092.78 381.461 Q2094.7 383.221 2094.7 386.392 Q2094.7 390.003 2091.83 392.109 Q2088.99 394.216 2083.99 394.216 Q2081.9 394.216 2079.63 393.799 Q2077.39 393.406 2074.89 392.596 L2074.89 388.197 Q2077.25 389.424 2079.54 390.049 Q2081.83 390.651 2084.08 390.651 Q2087.09 390.651 2088.71 389.633 Q2090.33 388.591 2090.33 386.716 Q2090.33 384.98 2089.15 384.054 Q2087.99 383.128 2084.03 382.272 L2082.55 381.924 Q2078.59 381.091 2076.83 379.378 Q2075.07 377.642 2075.07 374.633 Q2075.07 370.975 2077.67 368.985 Q2080.26 366.994 2085.03 366.994 Q2087.39 366.994 2089.47 367.341 Q2091.55 367.688 2093.31 368.383 Z\" fill=\"#000000\" fill-rule=\"nonzero\" fill-opacity=\"1\" /><path clip-path=\"url(#clip730)\" d=\"M2105.7 360.258 L2105.7 367.619 L2114.47 367.619 L2114.47 370.929 L2105.7 370.929 L2105.7 385.003 Q2105.7 388.174 2106.55 389.077 Q2107.43 389.98 2110.1 389.98 L2114.47 389.98 L2114.47 393.545 L2110.1 393.545 Q2105.17 393.545 2103.29 391.716 Q2101.42 389.864 2101.42 385.003 L2101.42 370.929 L2098.29 370.929 L2098.29 367.619 L2101.42 367.619 L2101.42 360.258 L2105.7 360.258 Z\" fill=\"#000000\" fill-rule=\"nonzero\" fill-opacity=\"1\" /><path clip-path=\"url(#clip730)\" d=\"M2131.86 380.512 Q2126.69 380.512 2124.7 381.693 Q2122.71 382.873 2122.71 385.721 Q2122.71 387.989 2124.19 389.332 Q2125.7 390.651 2128.27 390.651 Q2131.81 390.651 2133.94 388.151 Q2136.09 385.628 2136.09 381.461 L2136.09 380.512 L2131.86 380.512 M2140.35 378.753 L2140.35 393.545 L2136.09 393.545 L2136.09 389.609 Q2134.63 391.971 2132.46 393.105 Q2130.28 394.216 2127.13 394.216 Q2123.15 394.216 2120.79 391.994 Q2118.45 389.748 2118.45 385.998 Q2118.45 381.623 2121.37 379.401 Q2124.31 377.179 2130.12 377.179 L2136.09 377.179 L2136.09 376.762 Q2136.09 373.823 2134.15 372.225 Q2132.23 370.605 2128.73 370.605 Q2126.51 370.605 2124.4 371.137 Q2122.3 371.67 2120.35 372.735 L2120.35 368.799 Q2122.69 367.897 2124.89 367.457 Q2127.09 366.994 2129.17 366.994 Q2134.8 366.994 2137.57 369.911 Q2140.35 372.827 2140.35 378.753 Z\" fill=\"#000000\" fill-rule=\"nonzero\" fill-opacity=\"1\" /><path clip-path=\"url(#clip730)\" d=\"M2167.78 368.614 L2167.78 372.596 Q2165.98 371.6 2164.15 371.114 Q2162.34 370.605 2160.49 370.605 Q2156.35 370.605 2154.05 373.244 Q2151.76 375.86 2151.76 380.605 Q2151.76 385.35 2154.05 387.989 Q2156.35 390.605 2160.49 390.605 Q2162.34 390.605 2164.15 390.119 Q2165.98 389.609 2167.78 388.614 L2167.78 392.549 Q2166 393.383 2164.08 393.799 Q2162.18 394.216 2160.03 394.216 Q2154.17 394.216 2150.72 390.535 Q2147.27 386.855 2147.27 380.605 Q2147.27 374.262 2150.74 370.628 Q2154.24 366.994 2160.3 366.994 Q2162.27 366.994 2164.15 367.411 Q2166.02 367.804 2167.78 368.614 Z\" fill=\"#000000\" fill-rule=\"nonzero\" fill-opacity=\"1\" /><path clip-path=\"url(#clip730)\" d=\"M2175.19 357.526 L2179.45 357.526 L2179.45 393.545 L2175.19 393.545 L2175.19 357.526 Z\" fill=\"#000000\" fill-rule=\"nonzero\" fill-opacity=\"1\" /><path clip-path=\"url(#clip730)\" d=\"M2210.54 379.517 L2210.54 381.6 L2190.95 381.6 Q2191.23 385.998 2193.59 388.313 Q2195.98 390.605 2200.21 390.605 Q2202.67 390.605 2204.96 390.003 Q2207.27 389.401 2209.54 388.197 L2209.54 392.225 Q2207.25 393.197 2204.84 393.707 Q2202.43 394.216 2199.96 394.216 Q2193.75 394.216 2190.12 390.605 Q2186.51 386.994 2186.51 380.836 Q2186.51 374.471 2189.93 370.744 Q2193.38 366.994 2199.22 366.994 Q2204.45 366.994 2207.48 370.373 Q2210.54 373.73 2210.54 379.517 M2206.28 378.267 Q2206.23 374.772 2204.31 372.688 Q2202.41 370.605 2199.26 370.605 Q2195.7 370.605 2193.54 372.619 Q2191.42 374.633 2191.09 378.29 L2206.28 378.267 Z\" fill=\"#000000\" fill-rule=\"nonzero\" fill-opacity=\"1\" /><path clip-path=\"url(#clip730)\" d=\"M2247.36 374.91 Q2250.72 375.628 2252.6 377.897 Q2254.49 380.165 2254.49 383.498 Q2254.49 388.614 2250.98 391.415 Q2247.46 394.216 2240.98 394.216 Q2238.8 394.216 2236.48 393.776 Q2234.19 393.359 2231.74 392.503 L2231.74 387.989 Q2233.68 389.123 2236 389.702 Q2238.31 390.281 2240.84 390.281 Q2245.23 390.281 2247.53 388.545 Q2249.84 386.809 2249.84 383.498 Q2249.84 380.443 2247.69 378.73 Q2245.56 376.994 2241.74 376.994 L2237.71 376.994 L2237.71 373.151 L2241.92 373.151 Q2245.37 373.151 2247.2 371.786 Q2249.03 370.397 2249.03 367.804 Q2249.03 365.142 2247.13 363.73 Q2245.26 362.295 2241.74 362.295 Q2239.82 362.295 2237.62 362.711 Q2235.42 363.128 2232.78 364.008 L2232.78 359.841 Q2235.44 359.1 2237.76 358.73 Q2240.1 358.36 2242.16 358.36 Q2247.48 358.36 2250.58 360.79 Q2253.68 363.198 2253.68 367.318 Q2253.68 370.188 2252.04 372.179 Q2250.4 374.147 2247.36 374.91 Z\" fill=\"#000000\" fill-rule=\"nonzero\" fill-opacity=\"1\" /><polyline clip-path=\"url(#clip730)\" style=\"stroke:#0000ff; stroke-linecap:round; stroke-linejoin:round; stroke-width:4; stroke-opacity:1; fill:none\" stroke-dasharray=\"16, 10\" points=\"1835.61,428.105 1983.01,428.105 \"/>\n",
       "<path clip-path=\"url(#clip730)\" d=\"M2022.76 423.44 Q2022.04 423.024 2021.18 422.838 Q2020.35 422.63 2019.33 422.63 Q2015.72 422.63 2013.78 424.991 Q2011.86 427.329 2011.86 431.727 L2011.86 445.385 L2007.57 445.385 L2007.57 419.459 L2011.86 419.459 L2011.86 423.487 Q2013.2 421.126 2015.35 419.991 Q2017.5 418.834 2020.58 418.834 Q2021.02 418.834 2021.55 418.903 Q2022.09 418.95 2022.74 419.065 L2022.76 423.44 Z\" fill=\"#000000\" fill-rule=\"nonzero\" fill-opacity=\"1\" /><path clip-path=\"url(#clip730)\" d=\"M2048.36 431.357 L2048.36 433.44 L2028.78 433.44 Q2029.05 437.838 2031.42 440.153 Q2033.8 442.445 2038.04 442.445 Q2040.49 442.445 2042.78 441.843 Q2045.1 441.241 2047.37 440.037 L2047.37 444.065 Q2045.07 445.037 2042.67 445.547 Q2040.26 446.056 2037.78 446.056 Q2031.58 446.056 2027.94 442.445 Q2024.33 438.834 2024.33 432.676 Q2024.33 426.311 2027.76 422.584 Q2031.21 418.834 2037.04 418.834 Q2042.27 418.834 2045.3 422.213 Q2048.36 425.57 2048.36 431.357 M2044.1 430.107 Q2044.05 426.612 2042.13 424.528 Q2040.24 422.445 2037.09 422.445 Q2033.52 422.445 2031.37 424.459 Q2029.24 426.473 2028.92 430.13 L2044.1 430.107 Z\" fill=\"#000000\" fill-rule=\"nonzero\" fill-opacity=\"1\" /><path clip-path=\"url(#clip730)\" d=\"M2068.48 409.366 L2068.48 412.908 L2064.4 412.908 Q2062.11 412.908 2061.21 413.834 Q2060.33 414.76 2060.33 417.167 L2060.33 419.459 L2067.34 419.459 L2067.34 422.769 L2060.33 422.769 L2060.33 445.385 L2056.05 445.385 L2056.05 422.769 L2051.97 422.769 L2051.97 419.459 L2056.05 419.459 L2056.05 417.653 Q2056.05 413.325 2058.06 411.357 Q2060.07 409.366 2064.45 409.366 L2068.48 409.366 Z\" fill=\"#000000\" fill-rule=\"nonzero\" fill-opacity=\"1\" /><path clip-path=\"url(#clip730)\" d=\"M2094.22 431.357 L2094.22 433.44 L2074.63 433.44 Q2074.91 437.838 2077.27 440.153 Q2079.66 442.445 2083.89 442.445 Q2086.35 442.445 2088.64 441.843 Q2090.95 441.241 2093.22 440.037 L2093.22 444.065 Q2090.93 445.037 2088.52 445.547 Q2086.11 446.056 2083.64 446.056 Q2077.43 446.056 2073.8 442.445 Q2070.19 438.834 2070.19 432.676 Q2070.19 426.311 2073.61 422.584 Q2077.06 418.834 2082.9 418.834 Q2088.13 418.834 2091.16 422.213 Q2094.22 425.57 2094.22 431.357 M2089.96 430.107 Q2089.91 426.612 2087.99 424.528 Q2086.09 422.445 2082.94 422.445 Q2079.38 422.445 2077.23 424.459 Q2075.1 426.473 2074.77 430.13 L2089.96 430.107 Z\" fill=\"#000000\" fill-rule=\"nonzero\" fill-opacity=\"1\" /><path clip-path=\"url(#clip730)\" d=\"M2116.23 423.44 Q2115.51 423.024 2114.66 422.838 Q2113.82 422.63 2112.8 422.63 Q2109.19 422.63 2107.25 424.991 Q2105.33 427.329 2105.33 431.727 L2105.33 445.385 L2101.05 445.385 L2101.05 419.459 L2105.33 419.459 L2105.33 423.487 Q2106.67 421.126 2108.82 419.991 Q2110.98 418.834 2114.05 418.834 Q2114.49 418.834 2115.03 418.903 Q2115.56 418.95 2116.21 419.065 L2116.23 423.44 Z\" fill=\"#000000\" fill-rule=\"nonzero\" fill-opacity=\"1\" /><path clip-path=\"url(#clip730)\" d=\"M2141.83 431.357 L2141.83 433.44 L2122.25 433.44 Q2122.53 437.838 2124.89 440.153 Q2127.27 442.445 2131.51 442.445 Q2133.96 442.445 2136.25 441.843 Q2138.57 441.241 2140.84 440.037 L2140.84 444.065 Q2138.55 445.037 2136.14 445.547 Q2133.73 446.056 2131.25 446.056 Q2125.05 446.056 2121.42 442.445 Q2117.8 438.834 2117.8 432.676 Q2117.8 426.311 2121.23 422.584 Q2124.68 418.834 2130.51 418.834 Q2135.74 418.834 2138.78 422.213 Q2141.83 425.57 2141.83 431.357 M2137.57 430.107 Q2137.53 426.612 2135.61 424.528 Q2133.71 422.445 2130.56 422.445 Q2126.99 422.445 2124.84 424.459 Q2122.71 426.473 2122.39 430.13 L2137.57 430.107 Z\" fill=\"#000000\" fill-rule=\"nonzero\" fill-opacity=\"1\" /><path clip-path=\"url(#clip730)\" d=\"M2170.37 429.737 L2170.37 445.385 L2166.11 445.385 L2166.11 429.875 Q2166.11 426.195 2164.68 424.366 Q2163.24 422.538 2160.37 422.538 Q2156.92 422.538 2154.93 424.737 Q2152.94 426.936 2152.94 430.732 L2152.94 445.385 L2148.66 445.385 L2148.66 419.459 L2152.94 419.459 L2152.94 423.487 Q2154.47 421.149 2156.53 419.991 Q2158.61 418.834 2161.32 418.834 Q2165.79 418.834 2168.08 421.612 Q2170.37 424.366 2170.37 429.737 Z\" fill=\"#000000\" fill-rule=\"nonzero\" fill-opacity=\"1\" /><path clip-path=\"url(#clip730)\" d=\"M2197.53 420.454 L2197.53 424.436 Q2195.72 423.44 2193.89 422.954 Q2192.09 422.445 2190.23 422.445 Q2186.09 422.445 2183.8 425.084 Q2181.51 427.7 2181.51 432.445 Q2181.51 437.19 2183.8 439.829 Q2186.09 442.445 2190.23 442.445 Q2192.09 442.445 2193.89 441.959 Q2195.72 441.449 2197.53 440.454 L2197.53 444.389 Q2195.74 445.223 2193.82 445.639 Q2191.92 446.056 2189.77 446.056 Q2183.92 446.056 2180.47 442.375 Q2177.02 438.695 2177.02 432.445 Q2177.02 426.102 2180.49 422.468 Q2183.98 418.834 2190.05 418.834 Q2192.02 418.834 2193.89 419.251 Q2195.77 419.644 2197.53 420.454 Z\" fill=\"#000000\" fill-rule=\"nonzero\" fill-opacity=\"1\" /><path clip-path=\"url(#clip730)\" d=\"M2227.11 431.357 L2227.11 433.44 L2207.53 433.44 Q2207.8 437.838 2210.17 440.153 Q2212.55 442.445 2216.79 442.445 Q2219.24 442.445 2221.53 441.843 Q2223.85 441.241 2226.11 440.037 L2226.11 444.065 Q2223.82 445.037 2221.42 445.547 Q2219.01 446.056 2216.53 446.056 Q2210.33 446.056 2206.69 442.445 Q2203.08 438.834 2203.08 432.676 Q2203.08 426.311 2206.51 422.584 Q2209.96 418.834 2215.79 418.834 Q2221.02 418.834 2224.05 422.213 Q2227.11 425.57 2227.11 431.357 M2222.85 430.107 Q2222.8 426.612 2220.88 424.528 Q2218.98 422.445 2215.84 422.445 Q2212.27 422.445 2210.12 424.459 Q2207.99 426.473 2207.67 430.13 L2222.85 430.107 Z\" fill=\"#000000\" fill-rule=\"nonzero\" fill-opacity=\"1\" /></svg>\n"
      ]
     },
     "metadata": {},
     "output_type": "display_data"
    },
    {
     "name": "stdout",
     "output_type": "stream",
     "text": [
      "\u001b[0m\u001b[1mTest Summary:      | \u001b[22m\u001b[32m\u001b[1mPass  \u001b[22m\u001b[39m\u001b[36m\u001b[1mTotal\u001b[22m\u001b[39m\n",
      "quadrotor reorient | \u001b[32m   5  \u001b[39m\u001b[36m    5\u001b[39m"
     ]
    },
    {
     "data": {
      "text/plain": [
       "Test.DefaultTestSet(\"quadrotor reorient\", Any[], 5, false, false)"
      ]
     },
     "execution_count": 242,
     "metadata": {},
     "output_type": "execute_result"
    },
    {
     "name": "stdout",
     "output_type": "stream",
     "text": [
      "\n"
     ]
    }
   ],
   "source": [
    "@testset \"quadrotor reorient\" begin\n",
    "    \n",
    "    x, u, t_vec, params  = quadrotor_reorient(verbose=false)\n",
    "    \n",
    "#     #---------------testing-----------------\n",
    "   # check lengths of everything \n",
    "    @test length(x) == params.N\n",
    "    @test length(u) == params.N - 1\n",
    "    \n",
    "    # check for collisions \n",
    "    distances = [zeros(3) for i = 1:params.N]\n",
    "    for i = 1:params.N   \n",
    "        distances[i][1] = norm(x[i][1:2] - params.pos_obs1, 2)\n",
    "        distances[i][2] = norm(x[i][1:2] - params.pos_obs2, 2)\n",
    "        distances[i][3] = norm(x[i][1:2] - params.pos_obs3, 2)    \n",
    "    end\n",
    "    \n",
    "    @test minimum(minimum.(distances[1])) >= params.rads[1]\n",
    "    @test minimum(minimum.(distances[2])) >= params.rads[2]\n",
    "    @test minimum(minimum.(distances[3])) >= params.rads[3]\n",
    "    \n",
    "    \n",
    "    \n",
    "#     #---------------plotting/animation-------\n",
    "    \n",
    "    # regenerate the ref for plotting    \n",
    "    ref = range(params.xic, params.xg, length=params.N)\n",
    "    refx = [ref[i][1] for i = 1:params.N]\n",
    "    refy = [ref[i][2] for i = 1:params.N]\n",
    "    \n",
    "    # pull out the pos from the state\n",
    "    carx = [x[i][1] for i = 1:params.N]\n",
    "    cary = [x[i][2] for i = 1:params.N]\n",
    "    \n",
    "    # display the actual states and controls\n",
    "    for i = 1:params.N-1\n",
    "        @show x[i]\n",
    "        @show u[i]\n",
    "    end\n",
    "    @show x[params.N]\n",
    "    \n",
    "    # Show the plot\n",
    "    plot(carx, cary, color = :red,title = \"Mobile Base Trajectories\", label = \"car\")\n",
    "    \n",
    "    # Create three circles for obs\n",
    "    obs = [params.pos_obs1, params.pos_obs2, params.pos_obs3]\n",
    "    for i = 1:params.num_obs  \n",
    "        θ = range(0, stop=2π, length=100)\n",
    "        x = obs[i][1] .+ params.rads[i]*cos.(θ)\n",
    "        y = obs[i][2] .+ params.rads[i]*sin.(θ)\n",
    "\n",
    "        plot!(x, y, color = :black, label=\"Obstacle $i\")\n",
    "#         fill(x, y, color=:blue, alpha=0.2)\n",
    "    end\n",
    "    \n",
    "    xlims!((0, 80))\n",
    "    ylims!((0, 80))\n",
    "    display(plot!(refx, refy, color = :blue, linestyle= :dash, label = \"reference \"))\n",
    "    \n",
    "end"
   ]
  },
  {
   "cell_type": "code",
   "execution_count": null,
   "id": "660a27bb",
   "metadata": {},
   "outputs": [],
   "source": []
  },
  {
   "cell_type": "code",
   "execution_count": null,
   "id": "38d5df46",
   "metadata": {},
   "outputs": [],
   "source": []
  },
  {
   "cell_type": "code",
   "execution_count": null,
   "id": "f91a9f2b",
   "metadata": {},
   "outputs": [],
   "source": []
  },
  {
   "cell_type": "code",
   "execution_count": null,
   "id": "1f1da590",
   "metadata": {},
   "outputs": [],
   "source": []
  },
  {
   "cell_type": "code",
   "execution_count": null,
   "id": "c749d7c2",
   "metadata": {},
   "outputs": [],
   "source": []
  }
 ],
 "metadata": {
  "kernelspec": {
   "display_name": "Julia 1.6.7",
   "language": "julia",
   "name": "julia-1.6"
  },
  "language_info": {
   "file_extension": ".jl",
   "mimetype": "application/julia",
   "name": "julia",
   "version": "1.6.7"
  }
 },
 "nbformat": 4,
 "nbformat_minor": 5
}
